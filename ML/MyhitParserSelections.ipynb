{
 "cells": [
  {
   "cell_type": "code",
   "execution_count": 1,
   "metadata": {},
   "outputs": [],
   "source": [
    "import requests\n",
    "from bs4 import BeautifulSoup\n",
    "import re\n",
    "import json\n",
    "from tqdm import tqdm_notebook as tqdm"
   ]
  },
  {
   "cell_type": "code",
   "execution_count": 2,
   "metadata": {},
   "outputs": [],
   "source": [
    "with open(\"selections\",\"r\") as f:\n",
    "    selections=json.load(f)\n",
    "# with open(\"films_ids\",\"r\") as f:\n",
    "#     films_ids=json.load(f)\n",
    "collections={}\n",
    "films_ids=[]"
   ]
  },
  {
   "cell_type": "code",
   "execution_count": 3,
   "metadata": {},
   "outputs": [
    {
     "data": {
      "text/plain": [
       "{'name': 'Доброе кино, немного волшебное', 'cod': '24181'}"
      ]
     },
     "execution_count": 3,
     "metadata": {},
     "output_type": "execute_result"
    }
   ],
   "source": [
    "selections[1]"
   ]
  },
  {
   "cell_type": "code",
   "execution_count": null,
   "metadata": {},
   "outputs": [
    {
     "data": {
      "application/vnd.jupyter.widget-view+json": {
       "model_id": "ffd26e31b2a844528aecf11e24d9716c",
       "version_major": 2,
       "version_minor": 0
      },
      "text/plain": [
       "HBox(children=(IntProgress(value=0, max=19380), HTML(value='')))"
      ]
     },
     "metadata": {},
     "output_type": "display_data"
    },
    {
     "name": "stdout",
     "output_type": "stream",
     "text": [
      "error 417729\n",
      "error 320155\n",
      "error 4261\n",
      "error 425760\n",
      "error 343899\n",
      "error 80\n",
      "error 866\n",
      "error 419806\n",
      "error 105349\n",
      "error 102611\n",
      "error 415410\n",
      "error 427576\n",
      "error 383868\n",
      "error 409792\n",
      "error 431999\n",
      "error 415400\n",
      "error 430228\n",
      "error 429767\n",
      "error 429705\n",
      "error 429607\n",
      "error 400232\n",
      "error 64995\n",
      "error 72869\n",
      "error 378\n",
      "error 427038\n",
      "error 100211\n",
      "error 154311\n",
      "error 167375\n",
      "error 234198\n",
      "error 425790\n",
      "error 267341\n",
      "error 419663\n",
      "error 426471\n",
      "error 421985\n",
      "error 426364\n",
      "error 389005\n",
      "error 725\n",
      "error 370113\n",
      "error 426038\n",
      "error 81\n",
      "error 1281\n",
      "error 430581\n",
      "error 426686\n",
      "error 421221\n",
      "error 428694\n",
      "error 430081\n",
      "error 413451\n",
      "error 97831\n",
      "error 238581\n",
      "error 319066\n",
      "error 419921\n",
      "error 345915\n",
      "error 178\n",
      "error 15294\n",
      "error 48002\n",
      "error 413913\n",
      "error 420733\n",
      "error 865\n",
      "error 107247\n",
      "error 205402\n",
      "error 92182\n",
      "error 11639\n",
      "error 280426\n",
      "error 427400\n",
      "error 416452\n",
      "error 418759\n",
      "error 419003\n",
      "error 417453\n",
      "error 417298\n",
      "error 417950\n",
      "error 417064\n",
      "error 420749\n",
      "error 421436\n",
      "error 418636\n",
      "error 416220\n",
      "error 310724\n",
      "error 311828\n",
      "error 311869\n",
      "error 312374\n",
      "error 312423\n",
      "error 312814\n",
      "error 312831\n",
      "error 313039\n",
      "error 313359\n",
      "error 313560\n",
      "error 313619\n",
      "error 313622\n",
      "error 313829\n",
      "error 313912\n",
      "error 314037\n",
      "error 314102\n",
      "error 314234\n",
      "error 314398\n",
      "error 314406\n",
      "error 314411\n",
      "error 314436\n",
      "error 314546\n",
      "error 314680\n",
      "error 314986\n",
      "error 315001\n",
      "error 392690\n",
      "error 34248\n",
      "error 425794\n",
      "error 227237\n",
      "error 64046\n",
      "error 424144\n",
      "error 119456\n",
      "error 134890\n",
      "error 190553\n",
      "error 208186\n",
      "error 388996\n",
      "error 418166\n",
      "error 354377\n",
      "error 38754\n",
      "error 427657\n",
      "error 232214\n",
      "error 356716\n",
      "error 357402\n",
      "error 385449\n",
      "error 391856\n",
      "error 307813\n",
      "error 424759\n",
      "error 425791\n",
      "error 328860\n",
      "error 281405\n",
      "error 61\n",
      "error 287670\n",
      "error 36070\n",
      "error 368258\n",
      "error 333235\n",
      "error 242164\n",
      "error 266545\n",
      "error 298006\n",
      "error 1015\n",
      "error 273201\n",
      "error 273446\n",
      "error 306883\n",
      "error 86412\n",
      "error 106157\n",
      "error 330503\n",
      "error 149240\n",
      "error 314316\n",
      "error 408545\n",
      "error 355171\n",
      "error 783\n",
      "error 269737\n",
      "error 164924\n",
      "error 173256\n",
      "error 140\n",
      "error 1502\n",
      "error 292024\n",
      "error 202533\n",
      "error 183964\n",
      "error 66006\n",
      "error 48354\n",
      "error 238226\n",
      "error 71965\n",
      "error 2080\n",
      "error 420434\n",
      "error 425917\n",
      "error 62345\n",
      "error 335331\n",
      "error 336900\n",
      "error 337377\n",
      "error 344505\n",
      "error 360788\n",
      "error 229077\n",
      "error 130180\n",
      "error 365093\n",
      "error 427304\n",
      "error 387999\n",
      "error 52730\n",
      "error 419912\n",
      "error 1265\n",
      "error 139367\n",
      "error 329706\n",
      "error 391349\n",
      "error 403151\n",
      "error 229941\n",
      "error 251034\n",
      "error 398610\n",
      "error 154003\n",
      "error 211477\n",
      "error 192198\n",
      "error 417631\n",
      "error 348556\n",
      "error 285170\n",
      "error 429086\n",
      "error 4318\n",
      "error 182674\n",
      "error 194067\n",
      "error 145532\n",
      "error 286836\n",
      "error 384227\n",
      "error 134785\n",
      "error 171610\n",
      "error 1395\n",
      "error 415969\n",
      "error 343060\n",
      "error 75797\n",
      "error 271833\n",
      "error 408160\n",
      "error 62738\n",
      "error 413969\n",
      "error 197722\n",
      "error 299259\n",
      "error 225039\n",
      "error 372768\n",
      "error 61192\n"
     ]
    }
   ],
   "source": [
    "eror_count=0\n",
    "for index , s in enumerate(tqdm(selections)) :\n",
    "    col=[]\n",
    "    try:\n",
    "        page  = requests.get(f\"https://my-hit.org/selection/film/{s['cod']}/\").text  \n",
    "        soup = BeautifulSoup(page, 'html5lib')\n",
    "        films = films = soup.find(\"div\",{\"class\":\"selection-view\"}).find_all('div',{\"class\" : \"row\"})\n",
    "    except:\n",
    "        eror_count+=1\n",
    "        continue\n",
    "    \n",
    "    for f in films:\n",
    "        try:\n",
    "            film={}\n",
    "\n",
    "            film[\"film_id\"] = re.search(r\"\\d+\", f.find(\"a\",{\"title\" : True})[\"href\"])[0]\n",
    "\n",
    "            col.append(film[\"film_id\"])\n",
    "\n",
    "            if film[\"film_id\"] in films_ids:\n",
    "                continue\n",
    "            films_ids.append(film[\"film_id\"])\n",
    "\n",
    "            film[\"data\"] = f.span.b.text #Data\n",
    "            film[\"name\"] = f.findChild(\"a\",{\"title\" : True},re)[\"title\"].replace(\"- смотреть онлайн\",\"\")\n",
    "            film[\"img\"]=\"https://my-hit.org/\"+f.img[\"src\"]\n",
    "            film[\"discr\"]=f.p.text\n",
    "            film[\"youtube\"]=\"https://www.youtube.com\"\n",
    "\n",
    "            for i in f.find_all(\"li\"):\n",
    "                t=i.text.replace(u'\\xa0',' ')\n",
    "                try:\n",
    "                    film[t.split(\":\")[0]]=t.split(\":\")[1]\n",
    "                except:\n",
    "                    pass\n",
    "                \n",
    "            \n",
    "\n",
    "            with open(\"films.jsonlines\",\"a\") as f:\n",
    "                    f.write(json.dumps(film,ensure_ascii=False)+\"\\n\")\n",
    "      \n",
    "        except:\n",
    "            print(\"error\",film[\"film_id\"])\n",
    "            \n",
    "            \n",
    "            \n",
    "    collections[ s['name'] ] = col\n",
    "    \n",
    "    if index % 500 ==0:\n",
    "        with open(\"collections\",\"w\") as f:\n",
    "            json.dump(collections,f)\n",
    "        with open(\"films_ids\",\"w\") as f:\n",
    "            json.dump(films_ids,f)\n",
    "            \n",
    "print(\"Errors\",eror_count)\n",
    "with open(\"collections\",\"w\") as f:\n",
    "    json.dump(collections,f)\n",
    "with open(\"films_ids\",\"w\") as f:\n",
    "    json.dump(films_ids,f)"
   ]
  },
  {
   "cell_type": "code",
   "execution_count": null,
   "metadata": {},
   "outputs": [],
   "source": [
    "ypage  = requests.get(\"https://www.youtube.com/results\",params={\"search_query\":\"me\"}).text  \n",
    "ypage = BeautifulSoup(ypage, 'html5lib')\n",
    "\"https://www.youtube.com\"+ypage.find(\"a\",href=re.compile(\"watch\"))[\"href\"]"
   ]
  },
  {
   "cell_type": "code",
   "execution_count": null,
   "metadata": {},
   "outputs": [],
   "source": [
    "with open(\"collections\",\"r\") as f:\n",
    "    collections=json.load(f)\n",
    "len(collections)"
   ]
  },
  {
   "cell_type": "code",
   "execution_count": 4,
   "metadata": {},
   "outputs": [],
   "source": [
    "page  = requests.get(\"https://my-hit.org/selection/film/48791/\").text  "
   ]
  },
  {
   "cell_type": "code",
   "execution_count": 5,
   "metadata": {},
   "outputs": [],
   "source": [
    "soup = BeautifulSoup(page, 'html5lib')"
   ]
  },
  {
   "cell_type": "code",
   "execution_count": 6,
   "metadata": {},
   "outputs": [],
   "source": [
    "films = soup.find(\"div\",{\"class\":\"selection-view\"}).find_all('div',{\"class\" : \"row\"})"
   ]
  },
  {
   "cell_type": "code",
   "execution_count": 9,
   "metadata": {},
   "outputs": [
    {
     "data": {
      "text/plain": [
       "'Мертвая лошадь Небула (2018) - смотреть онлайн'"
      ]
     },
     "execution_count": 9,
     "metadata": {},
     "output_type": "execute_result"
    }
   ],
   "source": [
    "films[0].findChild(\"a\",{\"title\" : True},re)[\"title\"].replace(\"- смотреть онлайн\",\"\")"
   ]
  },
  {
   "cell_type": "code",
   "execution_count": null,
   "metadata": {},
   "outputs": [],
   "source": [
    " for i in films[0].find_all(\"li\"):\n",
    "    print(i.text)\n",
    "                "
   ]
  },
  {
   "cell_type": "code",
   "execution_count": null,
   "metadata": {},
   "outputs": [],
   "source": [
    "film={}\n",
    "\n",
    "film[\"data\"] = films[1].span.b.text #Data\n",
    "film[\"name\"] = films[1].find(\"a\",{\"title\" : True}).text\n",
    "film[\"film_id\"] = re.search(r\"\\d+\", films[1].find(\"a\",{\"title\" : True})[\"href\"])[0]\n",
    "\n",
    "\n",
    "for i in films[1].find_all(\"li\"):\n",
    "#     print(i.text)\n",
    "    try:\n",
    "        film[i.text.split(\":\\xa0\")[0]]=i.text.split(\":\\xa0\")[1].replace(u'\\xa0',' ')\n",
    "    except:\n",
    "        film[\"discr\"]=i.text.replace(u'\\xa0',' ')\n",
    "\n",
    "film"
   ]
  },
  {
   "cell_type": "code",
   "execution_count": null,
   "metadata": {},
   "outputs": [],
   "source": [
    "films[1].find_all(\"li\")"
   ]
  },
  {
   "cell_type": "code",
   "execution_count": null,
   "metadata": {},
   "outputs": [],
   "source": [
    "for i in tqdm(range(1,579)):\n",
    "    soup = BeautifulSoup(page, 'html5lib')\n",
    "    selections = soup.find_all('a',{\"title\" : True})\n",
    "    \n",
    "    for s in selections:\n",
    "        data.append(\n",
    "            {\n",
    "                \"name\":s[\"href\"],\n",
    "                \"cod\":re.search(r\"\\d+\", s[\"href\"])[0]\n",
    "            })\n",
    "        \n",
    "    if i%10==0:\n",
    "        with open(\"selections\",\"w\") as f:\n",
    "            json.dump(data,f)"
   ]
  },
  {
   "cell_type": "code",
   "execution_count": null,
   "metadata": {},
   "outputs": [],
   "source": [
    "len(data)"
   ]
  }
 ],
 "metadata": {
  "kernelspec": {
   "display_name": "Python 3",
   "language": "python",
   "name": "python3"
  },
  "language_info": {
   "codemirror_mode": {
    "name": "ipython",
    "version": 3
   },
   "file_extension": ".py",
   "mimetype": "text/x-python",
   "name": "python",
   "nbconvert_exporter": "python",
   "pygments_lexer": "ipython3",
   "version": "3.7.0"
  }
 },
 "nbformat": 4,
 "nbformat_minor": 2
}
