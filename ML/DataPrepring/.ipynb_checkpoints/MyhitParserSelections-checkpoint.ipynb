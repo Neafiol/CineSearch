{
 "cells": [
  {
   "cell_type": "code",
   "execution_count": 1,
   "metadata": {},
   "outputs": [],
   "source": [
    "import requests\n",
    "from bs4 import BeautifulSoup\n",
    "import re\n",
    "import json\n",
    "from tqdm import tqdm_notebook as tqdm"
   ]
  },
  {
   "cell_type": "code",
   "execution_count": 2,
   "metadata": {},
   "outputs": [],
   "source": [
    "page  = requests.get(\"https://my-hit.org/film/av/?p=\"+str(1)).text  \n",
    "soup = BeautifulSoup(page, 'html5lib')\n",
    "films = soup.find(\"div\",{\"id\":\"film-list\"}).find_all('div',{\"class\" : \"row\"})"
   ]
  },
  {
   "cell_type": "code",
   "execution_count": 2,
   "metadata": {},
   "outputs": [],
   "source": [
    "films_ids=[]"
   ]
  },
  {
   "cell_type": "code",
   "execution_count": 6,
   "metadata": {},
   "outputs": [
    {
     "data": {
      "text/plain": [
       "42"
      ]
     },
     "execution_count": 6,
     "metadata": {},
     "output_type": "execute_result"
    }
   ],
   "source": [
    "len(films_ids)"
   ]
  },
  {
   "cell_type": "code",
   "execution_count": 5,
   "metadata": {},
   "outputs": [
    {
     "data": {
      "application/vnd.jupyter.widget-view+json": {
       "model_id": "a698630c90c1419aae3d6a63fda3c570",
       "version_major": 2,
       "version_minor": 0
      },
      "text/plain": [
       "HBox(children=(IntProgress(value=0, max=1), HTML(value='')))"
      ]
     },
     "metadata": {},
     "output_type": "display_data"
    },
    {
     "name": "stdout",
     "output_type": "stream",
     "text": [
      "\n",
      "Errors 0\n"
     ]
    }
   ],
   "source": [
    "eror_count=0\n",
    "for i in tqdm(range(1)) :\n",
    "    try:\n",
    "        page  = requests.get(\"https://my-hit.org/film/g3/?p=\"+str(1)).text  \n",
    "        soup = BeautifulSoup(page, 'html5lib')\n",
    "        films = soup.find(\"div\",{\"id\":\"film-list\"}).find_all('div',{\"class\" : \"row\"})\n",
    "    except:\n",
    "        eror_count+=1\n",
    "        continue\n",
    "    \n",
    "    for f in films:\n",
    "        try:\n",
    "            film={}\n",
    "\n",
    "            film[\"film_id\"] = re.search(r\"\\d+\", f.find(\"a\",{\"title\" : True})[\"href\"])[0]\n",
    "            \n",
    "            if film[\"film_id\"] in films_ids:\n",
    "                continue\n",
    "\n",
    "\n",
    "            film[\"data\"] = f.span.b.text #Data\n",
    "            film[\"name\"] = f.findChild(\"a\",{\"title\" : True},re)[\"title\"].replace(\"- смотреть онлайн\",\"\")\n",
    "            film[\"img\"]=\"https://my-hit.org/\"+f.img[\"src\"]\n",
    "            film[\"discr\"]=f.p.text\n",
    "            film[\"youtube\"]=\"https://www.youtube.com\"\n",
    "\n",
    "            for i in f.find_all(\"li\"):\n",
    "                t=i.text.replace(u'\\xa0',' ')\n",
    "                try:\n",
    "                    film[t.split(\":\")[0]]=t.split(\":\")[1]\n",
    "                except:\n",
    "                    pass\n",
    "                \n",
    "            films_ids.append(film[\"film_id\"])\n",
    "\n",
    "            with open(\"films.jsonlines\",\"a\") as f:\n",
    "                    f.write(json.dumps(film,ensure_ascii=False)+\"\\n\")\n",
    "      \n",
    "        except:\n",
    "            print(\"error\",film[\"film_id\"])\n",
    "            \n",
    "            \n",
    "print(\"Errors\",eror_count)"
   ]
  },
  {
   "cell_type": "code",
   "execution_count": null,
   "metadata": {},
   "outputs": [],
   "source": [
    "film"
   ]
  },
  {
   "cell_type": "code",
   "execution_count": null,
   "metadata": {},
   "outputs": [],
   "source": [
    "ypage  = requests.get(\"https://www.youtube.com/results\",params={\"search_query\":\"me\"}).text  \n",
    "ypage = BeautifulSoup(ypage, 'html5lib')\n",
    "\"https://www.youtube.com\"+ypage.find(\"a\",href=re.compile(\"watch\"))[\"href\"]"
   ]
  },
  {
   "cell_type": "code",
   "execution_count": null,
   "metadata": {},
   "outputs": [],
   "source": [
    "with open(\"collections\",\"r\") as f:\n",
    "    collections=json.load(f)\n",
    "len(collections)"
   ]
  },
  {
   "cell_type": "code",
   "execution_count": null,
   "metadata": {},
   "outputs": [],
   "source": [
    "page  = requests.get(\"https://my-hit.org/selection/film/48791/\").text  "
   ]
  },
  {
   "cell_type": "code",
   "execution_count": null,
   "metadata": {},
   "outputs": [],
   "source": [
    "soup = BeautifulSoup(page, 'html5lib')"
   ]
  },
  {
   "cell_type": "code",
   "execution_count": null,
   "metadata": {},
   "outputs": [],
   "source": [
    "films = soup.find(\"div\",{\"class\":\"selection-view\"}).find_all('div',{\"class\" : \"row\"})"
   ]
  },
  {
   "cell_type": "code",
   "execution_count": null,
   "metadata": {},
   "outputs": [],
   "source": [
    "films[0].findChild(\"a\",{\"title\" : True},re)[\"title\"].replace(\"- смотреть онлайн\",\"\")"
   ]
  },
  {
   "cell_type": "code",
   "execution_count": null,
   "metadata": {},
   "outputs": [],
   "source": [
    " for i in films[0].find_all(\"li\"):\n",
    "    print(i.text)\n",
    "                "
   ]
  },
  {
   "cell_type": "code",
   "execution_count": null,
   "metadata": {},
   "outputs": [],
   "source": [
    "film={}\n",
    "\n",
    "film[\"data\"] = films[1].span.b.text #Data\n",
    "film[\"name\"] = films[1].find(\"a\",{\"title\" : True}).text\n",
    "film[\"film_id\"] = re.search(r\"\\d+\", films[1].find(\"a\",{\"title\" : True})[\"href\"])[0]\n",
    "\n",
    "\n",
    "for i in films[1].find_all(\"li\"):\n",
    "#     print(i.text)\n",
    "    try:\n",
    "        film[i.text.split(\":\\xa0\")[0]]=i.text.split(\":\\xa0\")[1].replace(u'\\xa0',' ')\n",
    "    except:\n",
    "        film[\"discr\"]=i.text.replace(u'\\xa0',' ')\n",
    "\n",
    "film"
   ]
  },
  {
   "cell_type": "code",
   "execution_count": null,
   "metadata": {},
   "outputs": [],
   "source": [
    "films[1].find_all(\"li\")"
   ]
  },
  {
   "cell_type": "code",
   "execution_count": null,
   "metadata": {},
   "outputs": [],
   "source": [
    "for i in tqdm(range(1,579)):\n",
    "    soup = BeautifulSoup(page, 'html5lib')\n",
    "    selections = soup.find_all('a',{\"title\" : True})\n",
    "    \n",
    "    for s in selections:\n",
    "        data.append(\n",
    "            {\n",
    "                \"name\":s[\"href\"],\n",
    "                \"cod\":re.search(r\"\\d+\", s[\"href\"])[0]\n",
    "            })\n",
    "        \n",
    "    if i%10==0:\n",
    "        with open(\"selections\",\"w\") as f:\n",
    "            json.dump(data,f)"
   ]
  },
  {
   "cell_type": "code",
   "execution_count": null,
   "metadata": {},
   "outputs": [],
   "source": [
    "len(data)"
   ]
  }
 ],
 "metadata": {
  "kernelspec": {
   "display_name": "Python 3",
   "language": "python",
   "name": "python3"
  },
  "language_info": {
   "codemirror_mode": {
    "name": "ipython",
    "version": 3
   },
   "file_extension": ".py",
   "mimetype": "text/x-python",
   "name": "python",
   "nbconvert_exporter": "python",
   "pygments_lexer": "ipython3",
   "version": "3.7.0"
  }
 },
 "nbformat": 4,
 "nbformat_minor": 2
}
