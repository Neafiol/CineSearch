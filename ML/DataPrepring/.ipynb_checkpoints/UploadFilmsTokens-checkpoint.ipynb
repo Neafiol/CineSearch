{
 "cells": [
  {
   "cell_type": "code",
   "execution_count": 2,
   "metadata": {},
   "outputs": [],
   "source": [
    "import requests\n",
    "from bs4 import BeautifulSoup\n",
    "import re\n",
    "import json\n",
    "from tqdm import tqdm_notebook as tqdm\n",
    "import psycopg2  \n",
    "from peewee import *\n",
    "from playhouse.postgres_ext import PostgresqlExtDatabase, JSONField, ArrayField"
   ]
  },
  {
   "cell_type": "code",
   "execution_count": 3,
   "metadata": {},
   "outputs": [],
   "source": [
    "bdname='sinesearch_db'\n",
    "bduser = 'postgres'\n",
    "bdpassword = 'nef441'\n",
    "bdhost = '51.79.69.179'\n",
    "bdport = 5432\n",
    "\n",
    "db = PostgresqlExtDatabase(bdname, user=bduser, password=bdpassword,\n",
    "                           host=bdhost, port=bdport)"
   ]
  },
  {
   "cell_type": "code",
   "execution_count": 12,
   "metadata": {},
   "outputs": [],
   "source": [
    "db.rollback()"
   ]
  },
  {
   "cell_type": "code",
   "execution_count": 5,
   "metadata": {},
   "outputs": [],
   "source": [
    "\n",
    "from peewee import *\n",
    "from playhouse.postgres_ext import PostgresqlExtDatabase, JSONField, ArrayField\n",
    "\n",
    "class Users(Model):\n",
    "    tel_id=IntegerField(index=True)\n",
    "    name = TextField()\n",
    "    nicname = TextField(null=True)\n",
    "    ustatus=IntegerField(default=0)\n",
    "    age=IntegerField(default=20)\n",
    "    sex=IntegerField(default=0)\n",
    "    ganres=JSONField(default={})\n",
    "    info=JSONField(default={})\n",
    "    last_visit=DateField(null=True)\n",
    "    mark_wight=FloatField(default=0)\n",
    "    just_marked = IntegerField(default=1)\n",
    "\n",
    "    cms=IntegerField(default=0)\n",
    "    cfid=IntegerField(default=0)\n",
    "    cfmes=IntegerField(default=0)\n",
    "    ctmes=IntegerField(default=0)\n",
    "    liked=ArrayField(IntegerField,default=[])\n",
    "    viewed=ArrayField(IntegerField,default=[])\n",
    "    disliked=ArrayField(IntegerField,default=[])\n",
    "    predict_films=ArrayField(IntegerField,default=[])\n",
    "    selections=JSONField(default={})\n",
    "\n",
    "    class Meta:\n",
    "        database = db\n",
    "        db_table='Users'\n",
    "\n",
    "class Films(Model):\n",
    "    film_id=IntegerField(unique=True,index=True)\n",
    "    name = TextField()\n",
    "    discr = TextField(null=True)\n",
    "    img = TextField(null=True)\n",
    "    youtube=TextField(default=\"\")\n",
    "    stars = FloatField(default=0)\n",
    "    info=JSONField(default={})\n",
    "    level=IntegerField(default=0)\n",
    "    selections=ArrayField(IntegerField,default=[])\n",
    "    year=IntegerField(default=2000)\n",
    "\n",
    "    ganres=ArrayField(IntegerField,default=[])\n",
    "    meanage=FloatField(default=20)\n",
    "    sex=FloatField(default=0.5)\n",
    "\n",
    "    likes=IntegerField(default=10)\n",
    "    dislikes=IntegerField(default=10)\n",
    "    shit=IntegerField(default=0)\n",
    "    errors=IntegerField(default=0)\n",
    "    opening=IntegerField(default=0)\n",
    "    treilers=IntegerField(default=0)\n",
    "\n",
    "    class Meta:\n",
    "        database = db\n",
    "        db_table='Films'\n",
    "\n",
    "class Selections(Model):\n",
    "    name = TextField()\n",
    "    user_id = IntegerField(default=0)\n",
    "    stars = FloatField(default=0)\n",
    "    films = ArrayField(IntegerField,default=[])\n",
    "\n",
    "    class Meta:\n",
    "        database = db\n",
    "        db_table='Selections'\n",
    "\n",
    "class Messages(Model):\n",
    "    mes_id = TextField(unique=True)\n",
    "    text = TextField(default=\"\")\n",
    "    reply_markup = JSONField(default={})\n",
    "    user = IntegerField(default=0)\n",
    "    btime = DateField(null=True)\n",
    "\n",
    "    class Meta:\n",
    "        database = db\n",
    "        db_table='Messages'\n",
    "\n",
    "class Config(Model):\n",
    "    name = TextField()\n",
    "    value = TextField()\n",
    "    json=JSONField(default={})\n",
    "\n",
    "    class Meta:\n",
    "        database = db\n",
    "        db_table='Config'\n",
    "\n",
    "class Dataset(Model):\n",
    "    user_value = JSONField()\n",
    "    film_value = JSONField()\n",
    "    result = IntegerField(default=0)\n",
    "    data = DateField()\n",
    "\n",
    "    class Meta:\n",
    "        database = db\n",
    "        db_table='Dataset'"
   ]
  },
  {
   "cell_type": "code",
   "execution_count": 15,
   "metadata": {},
   "outputs": [
    {
     "data": {
      "text/plain": [
       "7968"
      ]
     },
     "execution_count": 15,
     "metadata": {},
     "output_type": "execute_result"
    }
   ],
   "source": [
    "Films.select().where(Films.stars>9).count()"
   ]
  },
  {
   "cell_type": "code",
   "execution_count": 13,
   "metadata": {},
   "outputs": [
    {
     "data": {
      "text/plain": [
       "1134"
      ]
     },
     "execution_count": 13,
     "metadata": {},
     "output_type": "execute_result"
    }
   ],
   "source": [
    "Films.update({Films.stars:(3.5*Films.dislikes+1*Films.shit+10*Films.likes)/(Films.likes + Films.shit + Films.dislikes)}).where(Films.stars>10).execute()"
   ]
  },
  {
   "cell_type": "code",
   "execution_count": 8,
   "metadata": {},
   "outputs": [],
   "source": [
    "with open(\"collections\",\"r\") as f:\n",
    "    collections=json.load(f)"
   ]
  },
  {
   "cell_type": "code",
   "execution_count": null,
   "metadata": {},
   "outputs": [],
   "source": [
    "col=[]\n",
    "for i , c in tqdm(enumerate(collections)):\n",
    "    col.append({\n",
    "         \"name\":c,\n",
    "         \"films\":[int(k) for k in collections[c]]\n",
    "     })\n",
    "    if i % 100 ==0:\n",
    "        Selections.insert_many(col).execute()\n",
    "        col=[]\n",
    "Selections.insert_many(col).execute()"
   ]
  },
  {
   "cell_type": "code",
   "execution_count": 10,
   "metadata": {},
   "outputs": [
    {
     "data": {
      "application/vnd.jupyter.widget-view+json": {
       "model_id": "0952f1ac704549bb935d74943b2fdfa0",
       "version_major": 2,
       "version_minor": 0
      },
      "text/plain": [
       "HBox(children=(IntProgress(value=1, bar_style='info', max=1), HTML(value='')))"
      ]
     },
     "metadata": {},
     "output_type": "display_data"
    },
    {
     "name": "stdout",
     "output_type": "stream",
     "text": [
      "\n"
     ]
    },
    {
     "data": {
      "text/plain": [
       "<peewee.ModelTupleCursorWrapper at 0x295abcfe8d0>"
      ]
     },
     "execution_count": 10,
     "metadata": {},
     "output_type": "execute_result"
    }
   ],
   "source": [
    "fms=[]\n",
    "db.rollback()\n",
    "with open(\"films.jsonlines\",\"r\") as f:\n",
    "    for k, line in tqdm(enumerate(f.readlines())):\n",
    "        film = json.loads(line)\n",
    "        info=film.copy()\n",
    "        if \"Жанр\" not in film:\n",
    "            film[\"Жанр\"]=\"\"\n",
    "        \n",
    "        \n",
    "        comp_film={\n",
    "            \"name\":info[\"name\"],\n",
    "            \"discr\":info[\"discr\"],\n",
    "            \"img\":info[\"img\"],\n",
    "            \"youtube\":info[\"youtube\"],\n",
    "            \"film_id\":info[\"film_id\"],   \n",
    "            \"stars\":0,\n",
    "            \"ganres\":[gange.index(g) for g in film[\"Жанр\"].replace(\" \",\"\").replace(\".\",\"\").split(\",\")]\n",
    "        }\n",
    "        try:\n",
    "            comp_film[\"year\"]=int(re.search(r\"\\(\\d+\\)\",info[\"name\"])[0][1:-1])\n",
    "            comp_film[\"name\"]=comp_film[\"name\"].replace(re.search(r\"\\(\\d+\\)\",info[\"name\"])[0],\"\")\n",
    "        except:\n",
    "            print(comp_film[\"name\"])\n",
    "            comp_film[\"year\"]=2000\n",
    "#             break\n",
    "            \n",
    "        if \"Рейтинг\" in info:\n",
    "            comp_film[\"stars\"] = float(info[\"Рейтинг\"].replace(\" \",\"\").replace(\",\",\".\").replace(\"%\",\"\"))/10\n",
    "        del info[\"name\"]\n",
    "        del info[\"discr\"]\n",
    "        del info[\"img\"]\n",
    "        del info[\"youtube\"]\n",
    "        del info[\"film_id\"]\n",
    "#         info[\"Год выпуска\"]=comp_film[\"year\"]\n",
    "        del info[\"data\"]\n",
    "\n",
    "        \n",
    "        comp_film[\"selections\"]=[]\n",
    "        comp_film[\"level\"]=4\n",
    "        \n",
    "            \n",
    "        comp_film[\"info\"]=info\n",
    "#         break\n",
    "        \n",
    "        fms.append(comp_film)\n",
    "        if k % 500 == 0:\n",
    "            Films.insert_many(fms).on_conflict_ignore().execute()   \n",
    "            fms=[]\n",
    "Films.insert_many(fms).on_conflict_ignore().execute()"
   ]
  },
  {
   "cell_type": "code",
   "execution_count": null,
   "metadata": {},
   "outputs": [],
   "source": [
    "len(Films.select().where(Films.level==1).count().execute())"
   ]
  },
  {
   "cell_type": "code",
   "execution_count": null,
   "metadata": {},
   "outputs": [],
   "source": [
    "with open(\"films\",\"w\") as f:\n",
    "    json.dump(fms,f)"
   ]
  },
  {
   "cell_type": "markdown",
   "metadata": {},
   "source": [
    "**Ganre**"
   ]
  },
  {
   "cell_type": "code",
   "execution_count": 8,
   "metadata": {},
   "outputs": [],
   "source": [
    "with open(\"gange\",\"r\") as f:\n",
    "    gange = json.load(f)"
   ]
  },
  {
   "cell_type": "code",
   "execution_count": 6,
   "metadata": {},
   "outputs": [],
   "source": [
    "import torch\n",
    "import os\n",
    "import json\n",
    "import time\n",
    "from tqdm import tqdm_notebook as tqdm"
   ]
  },
  {
   "cell_type": "code",
   "execution_count": 9,
   "metadata": {},
   "outputs": [
    {
     "ename": "RuntimeError",
     "evalue": "Error(s) in loading state_dict for TextGanre:\n\tMissing key(s) in state_dict: \"embedding.weight\", \"basic_rnn.weight_ih_l0\", \"basic_rnn.weight_hh_l0\", \"basic_rnn.bias_ih_l0\", \"basic_rnn.bias_hh_l0\", \"clasifiter.0.weight\", \"clasifiter.0.bias\", \"clasifiter.2.weight\", \"clasifiter.2.bias\". \n\tUnexpected key(s) in state_dict: \"0.weight\", \"1.weight_ih_l0\", \"1.weight_hh_l0\", \"1.bias_ih_l0\", \"1.bias_hh_l0\". ",
     "output_type": "error",
     "traceback": [
      "\u001b[1;31m---------------------------------------------------------------------------\u001b[0m",
      "\u001b[1;31mRuntimeError\u001b[0m                              Traceback (most recent call last)",
      "\u001b[1;32m<ipython-input-9-74c71184b928>\u001b[0m in \u001b[0;36m<module>\u001b[1;34m()\u001b[0m\n\u001b[0;32m     13\u001b[0m \u001b[0mmodel\u001b[0m \u001b[1;33m=\u001b[0m \u001b[0mTextGanre\u001b[0m\u001b[1;33m(\u001b[0m\u001b[0mBATCH_SIZE\u001b[0m\u001b[1;33m,\u001b[0m \u001b[0mVOCAB_SIZE\u001b[0m\u001b[1;33m,\u001b[0m \u001b[0mEMBED_DIM\u001b[0m\u001b[1;33m,\u001b[0m \u001b[0mNUN_CLASS\u001b[0m\u001b[1;33m)\u001b[0m\u001b[1;33m\u001b[0m\u001b[0m\n\u001b[0;32m     14\u001b[0m \u001b[1;33m\u001b[0m\u001b[0m\n\u001b[1;32m---> 15\u001b[1;33m \u001b[0mmodel\u001b[0m\u001b[1;33m.\u001b[0m\u001b[0mload_state_dict\u001b[0m\u001b[1;33m(\u001b[0m\u001b[0mtorch\u001b[0m\u001b[1;33m.\u001b[0m\u001b[0mload\u001b[0m\u001b[1;33m(\u001b[0m\u001b[1;34m\"model_lstm_short\"\u001b[0m\u001b[1;33m)\u001b[0m\u001b[1;33m)\u001b[0m\u001b[1;33m\u001b[0m\u001b[0m\n\u001b[0m",
      "\u001b[1;32m~\\Anaconda3\\lib\\site-packages\\torch\\nn\\modules\\module.py\u001b[0m in \u001b[0;36mload_state_dict\u001b[1;34m(self, state_dict, strict)\u001b[0m\n\u001b[0;32m    837\u001b[0m         \u001b[1;32mif\u001b[0m \u001b[0mlen\u001b[0m\u001b[1;33m(\u001b[0m\u001b[0merror_msgs\u001b[0m\u001b[1;33m)\u001b[0m \u001b[1;33m>\u001b[0m \u001b[1;36m0\u001b[0m\u001b[1;33m:\u001b[0m\u001b[1;33m\u001b[0m\u001b[0m\n\u001b[0;32m    838\u001b[0m             raise RuntimeError('Error(s) in loading state_dict for {}:\\n\\t{}'.format(\n\u001b[1;32m--> 839\u001b[1;33m                                self.__class__.__name__, \"\\n\\t\".join(error_msgs)))\n\u001b[0m\u001b[0;32m    840\u001b[0m         \u001b[1;32mreturn\u001b[0m \u001b[0m_IncompatibleKeys\u001b[0m\u001b[1;33m(\u001b[0m\u001b[0mmissing_keys\u001b[0m\u001b[1;33m,\u001b[0m \u001b[0munexpected_keys\u001b[0m\u001b[1;33m)\u001b[0m\u001b[1;33m\u001b[0m\u001b[0m\n\u001b[0;32m    841\u001b[0m \u001b[1;33m\u001b[0m\u001b[0m\n",
      "\u001b[1;31mRuntimeError\u001b[0m: Error(s) in loading state_dict for TextGanre:\n\tMissing key(s) in state_dict: \"embedding.weight\", \"basic_rnn.weight_ih_l0\", \"basic_rnn.weight_hh_l0\", \"basic_rnn.bias_ih_l0\", \"basic_rnn.bias_hh_l0\", \"clasifiter.0.weight\", \"clasifiter.0.bias\", \"clasifiter.2.weight\", \"clasifiter.2.bias\". \n\tUnexpected key(s) in state_dict: \"0.weight\", \"1.weight_ih_l0\", \"1.weight_hh_l0\", \"1.bias_ih_l0\", \"1.bias_hh_l0\". "
     ]
    }
   ],
   "source": [
    "with open(\"gange\",\"r\") as f:\n",
    "    gange = json.load(f)\n",
    "with open(\"vocab\",\"r\") as f:\n",
    "    vocab = json.load(f)\n",
    "    \n",
    "EMBED_DIM = 16\n",
    "NUN_CLASS = 1 #len(gange)\n",
    "NGRAMS = 2\n",
    "BATCH_SIZE = 16\n",
    "VOCAB_SIZE=len(vocab)\n",
    "N_EPOCHS =5 \n",
    "\n",
    "model = TextGanre(BATCH_SIZE, VOCAB_SIZE, EMBED_DIM, NUN_CLASS)\n",
    "\n",
    "model.load_state_dict(torch.load(\"model_lstm_short\"))\n"
   ]
  },
  {
   "cell_type": "code",
   "execution_count": 8,
   "metadata": {},
   "outputs": [],
   "source": [
    "import re\n",
    "\n",
    "class Porter:\n",
    "\tPERFECTIVEGROUND =  re.compile(u\"((ив|ивши|ившись|ыв|ывши|ывшись)|((?<=[ая])(в|вши|вшись)))$\")\n",
    "\tREFLEXIVE = re.compile(u\"(с[яь])$\")\n",
    "\tADJECTIVE = re.compile(u\"(ее|ие|ые|ое|ими|ыми|ей|ий|ый|ой|ем|им|ым|ом|его|ого|ему|ому|их|ых|ую|юю|ая|яя|ою|ею)$\")\n",
    "\tPARTICIPLE = re.compile(u\"((ивш|ывш|ующ)|((?<=[ая])(ем|нн|вш|ющ|щ)))$\")\n",
    "\tVERB = re.compile(u\"((ила|ыла|ена|ейте|уйте|ите|или|ыли|ей|уй|ил|ыл|им|ым|ен|ило|ыло|ено|ят|ует|уют|ит|ыт|ены|ить|ыть|ишь|ую|ю)|((?<=[ая])(ла|на|ете|йте|ли|й|л|ем|н|ло|но|ет|ют|ны|ть|ешь|нно)))$\")\n",
    "\tNOUN = re.compile(u\"(а|ев|ов|ие|ье|е|иями|ями|ами|еи|ии|и|ией|ей|ой|ий|й|иям|ям|ием|ем|ам|ом|о|у|ах|иях|ях|ы|ь|ию|ью|ю|ия|ья|я)$\")\n",
    "\tRVRE = re.compile(u\"^(.*?[аеиоуыэюя])(.*)$\")\n",
    "\tDERIVATIONAL = re.compile(u\".*[^аеиоуыэюя]+[аеиоуыэюя].*ость?$\")\n",
    "\tDER = re.compile(u\"ость?$\")\n",
    "\tSUPERLATIVE = re.compile(u\"(ейше|ейш)$\")\n",
    "\tI = re.compile(u\"и$\")\n",
    "\tP = re.compile(u\"ь$\")\n",
    "\tNN = re.compile(u\"нн$\")\n",
    "\n",
    "\tdef stem(word):\n",
    "\t\tword = word.lower()\n",
    "\t\tword = word.replace(u'ё', u'е')\n",
    "\t\tm = re.match(Porter.RVRE, word)\n",
    "\t\tif m.groups():\n",
    "\t\t\tpre = m.group(1)\n",
    "\t\t\trv = m.group(2)\n",
    "\t\t\ttemp = Porter.PERFECTIVEGROUND.sub('', rv, 1)\n",
    "\t\t\tif temp == rv:\n",
    "\t\t\t\trv = Porter.REFLEXIVE.sub('', rv, 1)\n",
    "\t\t\t\ttemp = Porter.ADJECTIVE.sub('', rv, 1)\n",
    "\t\t\t\tif temp != rv:\n",
    "\t\t\t\t\trv = temp\n",
    "\t\t\t\t\trv = Porter.PARTICIPLE.sub('', rv, 1)\n",
    "\t\t\t\telse:\n",
    "\t\t\t\t\ttemp = Porter.VERB.sub('', rv, 1)\n",
    "\t\t\t\t\tif temp == rv:\n",
    "\t\t\t\t\t\trv = Porter.NOUN.sub('', rv, 1)\n",
    "\t\t\t\t\telse:\n",
    "\t\t\t\t\t\trv = temp\n",
    "\t\t\telse:\n",
    "\t\t\t\trv = temp\n",
    "\t\t\t\n",
    "\t\t\trv = Porter.I.sub('', rv, 1)\n",
    "\n",
    "\t\t\tif re.match(Porter.DERIVATIONAL, rv):\n",
    "\t\t\t\trv = Porter.DER.sub('', rv, 1)\n",
    "\n",
    "\t\t\ttemp = Porter.P.sub('', rv, 1)\n",
    "\t\t\tif temp == rv:\n",
    "\t\t\t\trv = Porter.SUPERLATIVE.sub('', rv, 1)\n",
    "\t\t\t\trv = Porter.NN.sub(u'н', rv, 1)\n",
    "\t\t\telse:\n",
    "\t\t\t\trv = temp\n",
    "\t\t\tword = pre+rv\n",
    "\t\treturn word\n",
    "\tstem=staticmethod(stem)"
   ]
  },
  {
   "cell_type": "code",
   "execution_count": 9,
   "metadata": {},
   "outputs": [],
   "source": [
    "def text_preproc(text):\n",
    "    reg = re.compile('[^а-яА-Я ]')\n",
    "    text = (reg.sub('', text))\n",
    "    text=re.compile(\"\\s+\").sub(\" \",text).lower()\n",
    "    \n",
    "    res=[]\n",
    "    for w in text.split(\" \"):\n",
    "        try:\n",
    "            if len(w)>4:\n",
    "                try:\n",
    "                    res.append(vocab[Porter.stem(w)])\n",
    "                except:\n",
    "                    pass\n",
    "            else:\n",
    "                res.append(vocab[w])\n",
    "        except:\n",
    "            pass\n",
    "    \n",
    "    return res"
   ]
  },
  {
   "cell_type": "code",
   "execution_count": 10,
   "metadata": {
    "scrolled": true
   },
   "outputs": [
    {
     "data": {
      "text/plain": [
       "[16206, 62696, 23914]"
      ]
     },
     "execution_count": 10,
     "metadata": {},
     "output_type": "execute_result"
    }
   ],
   "source": [
    "text_preproc(\"Очень страшный фильм\")"
   ]
  },
  {
   "cell_type": "code",
   "execution_count": 12,
   "metadata": {},
   "outputs": [],
   "source": [
    "def generate_batch(batch):\n",
    "    d=[b[\"ganre\"][0] for b in batch]\n",
    "    label = torch.tensor(d).to(torch.float)\n",
    "    text = [torch.tensor(b[\"discr\"]).to(torch.int64) for b in batch]\n",
    "    \n",
    "    text=torch.nn.utils.rnn.pad_sequence( text , batch_first=True)\n",
    "    return text.view(-1,len(batch)), label"
   ]
  },
  {
   "cell_type": "code",
   "execution_count": 13,
   "metadata": {},
   "outputs": [],
   "source": [
    "def predict(text):\n",
    "    text, _ = generate_batch([{\n",
    "        \"discr\":text_preproc(text),\n",
    "        \"ganre\":[0]\n",
    "    }])\n",
    "    return text\n",
    "\n",
    "test = predict(\"Там, где круглый год лежат снега, а небо озаряет северное сияние, живет Ледяная принцесса Лилли с голубыми, как древний лед, волосами. Однажды Лилли и её друг, полярный медведь Лимбо, встречают юного дракона, который не умеет извергать пламя. Лилли обещает помочь ему. Но путь, который их ждет, будет не из легких, впереди новых друзей ждет немало приключений и опасных испытаний.\")"
   ]
  },
  {
   "cell_type": "code",
   "execution_count": null,
   "metadata": {},
   "outputs": [],
   "source": [
    "model.load_state_dict(torch.load(PATH))"
   ]
  },
  {
   "cell_type": "code",
   "execution_count": 18,
   "metadata": {},
   "outputs": [
    {
     "ename": "AttributeError",
     "evalue": "'collections.OrderedDict' object has no attribute 'eval'",
     "output_type": "error",
     "traceback": [
      "\u001b[1;31m---------------------------------------------------------------------------\u001b[0m",
      "\u001b[1;31mAttributeError\u001b[0m                            Traceback (most recent call last)",
      "\u001b[1;32m<ipython-input-18-4ed956f96102>\u001b[0m in \u001b[0;36m<module>\u001b[1;34m()\u001b[0m\n\u001b[0;32m      1\u001b[0m \u001b[0mmodel\u001b[0m\u001b[1;33m.\u001b[0m\u001b[0mh_0\u001b[0m \u001b[1;33m=\u001b[0m \u001b[0mtorch\u001b[0m\u001b[1;33m.\u001b[0m\u001b[0mzeros\u001b[0m\u001b[1;33m(\u001b[0m\u001b[1;36m1\u001b[0m\u001b[1;33m,\u001b[0m\u001b[1;36m1\u001b[0m\u001b[1;33m,\u001b[0m \u001b[1;36m128\u001b[0m\u001b[1;33m)\u001b[0m\u001b[1;33m\u001b[0m\u001b[0m\n\u001b[0;32m      2\u001b[0m \u001b[0mmodel\u001b[0m\u001b[1;33m.\u001b[0m\u001b[0mc_0\u001b[0m \u001b[1;33m=\u001b[0m \u001b[0mtorch\u001b[0m\u001b[1;33m.\u001b[0m\u001b[0mzeros\u001b[0m\u001b[1;33m(\u001b[0m\u001b[1;36m1\u001b[0m\u001b[1;33m,\u001b[0m\u001b[1;36m1\u001b[0m\u001b[1;33m,\u001b[0m \u001b[1;36m128\u001b[0m\u001b[1;33m)\u001b[0m\u001b[1;33m\u001b[0m\u001b[0m\n\u001b[1;32m----> 3\u001b[1;33m \u001b[0mmodel\u001b[0m\u001b[1;33m.\u001b[0m\u001b[0meval\u001b[0m\u001b[1;33m(\u001b[0m\u001b[1;33m)\u001b[0m\u001b[1;33m\u001b[0m\u001b[0m\n\u001b[0m\u001b[0;32m      4\u001b[0m \u001b[0mpred\u001b[0m\u001b[1;33m=\u001b[0m\u001b[0mmodel\u001b[0m\u001b[1;33m(\u001b[0m\u001b[0mtest\u001b[0m\u001b[1;33m)\u001b[0m\u001b[1;33m\u001b[0m\u001b[0m\n",
      "\u001b[1;31mAttributeError\u001b[0m: 'collections.OrderedDict' object has no attribute 'eval'"
     ]
    }
   ],
   "source": [
    "model.h_0 = torch.zeros(1,1, 128)\n",
    "model.c_0 = torch.zeros(1,1, 128)\n",
    "model.eval()\n",
    "pred=model(test)"
   ]
  },
  {
   "cell_type": "code",
   "execution_count": null,
   "metadata": {},
   "outputs": [],
   "source": []
  }
 ],
 "metadata": {
  "kernelspec": {
   "display_name": "Python 3",
   "language": "python",
   "name": "python3"
  },
  "language_info": {
   "codemirror_mode": {
    "name": "ipython",
    "version": 3
   },
   "file_extension": ".py",
   "mimetype": "text/x-python",
   "name": "python",
   "nbconvert_exporter": "python",
   "pygments_lexer": "ipython3",
   "version": "3.7.0"
  }
 },
 "nbformat": 4,
 "nbformat_minor": 2
}
