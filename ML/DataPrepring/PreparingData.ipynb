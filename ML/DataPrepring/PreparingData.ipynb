{
 "cells": [
  {
   "cell_type": "code",
   "execution_count": 1,
   "metadata": {},
   "outputs": [],
   "source": [
    "import requests\n",
    "from bs4 import BeautifulSoup\n",
    "import re\n",
    "import json\n",
    "from tqdm import tqdm_notebook as tqdm\n",
    "import psycopg2  \n",
    "from peewee import *\n",
    "from playhouse.postgres_ext import PostgresqlExtDatabase, JSONField, ArrayField"
   ]
  },
  {
   "cell_type": "code",
   "execution_count": null,
   "metadata": {},
   "outputs": [],
   "source": [
    "bdname='sinesearch_db'\n",
    "bduser = 'postgres'\n",
    "bdpassword = 'nef441'\n",
    "bdhost = '51.79.69.179'\n",
    "bdport = 5432\n",
    "\n",
    "db = PostgresqlExtDatabase(bdname, user=bduser, password=bdpassword,\n",
    "                           host=bdhost, port=bdport)"
   ]
  },
  {
   "cell_type": "code",
   "execution_count": null,
   "metadata": {},
   "outputs": [],
   "source": [
    "db.rollback()"
   ]
  },
  {
   "cell_type": "code",
   "execution_count": null,
   "metadata": {},
   "outputs": [],
   "source": [
    "\n",
    "from peewee import *\n",
    "from playhouse.postgres_ext import PostgresqlExtDatabase, JSONField, ArrayField\n",
    "\n",
    "class Users(Model):\n",
    "    tel_id=IntegerField(index=True)\n",
    "    name = TextField()\n",
    "    nicname = TextField(null=True)\n",
    "    ustatus=IntegerField(default=0)\n",
    "    age=IntegerField(default=20)\n",
    "    sex=IntegerField(default=0)\n",
    "    ganres=JSONField(default={})\n",
    "    info=JSONField(default={})\n",
    "    last_visit=DateField(null=True)\n",
    "    mark_wight=FloatField(default=0)\n",
    "    just_marked = IntegerField(default=1)\n",
    "\n",
    "    cms=IntegerField(default=0)\n",
    "    cfid=IntegerField(default=0)\n",
    "    cfmes=IntegerField(default=0)\n",
    "    ctmes=IntegerField(default=0)\n",
    "    liked=ArrayField(IntegerField,default=[])\n",
    "    viewed=ArrayField(IntegerField,default=[])\n",
    "    disliked=ArrayField(IntegerField,default=[])\n",
    "    predict_films=ArrayField(IntegerField,default=[])\n",
    "    selections=JSONField(default={})\n",
    "\n",
    "    class Meta:\n",
    "        database = db\n",
    "        db_table='Users'\n",
    "\n",
    "class Films(Model):\n",
    "    film_id=IntegerField(unique=True,index=True)\n",
    "    name = TextField()\n",
    "    discr = TextField(null=True)\n",
    "    img = TextField(null=True)\n",
    "    youtube=TextField(default=\"\")\n",
    "    stars = FloatField(default=0)\n",
    "    info=JSONField(default={})\n",
    "    level=IntegerField(default=0)\n",
    "    selections=ArrayField(IntegerField,default=[])\n",
    "    year=IntegerField(default=2000)\n",
    "\n",
    "    ganres=ArrayField(IntegerField,default=[])\n",
    "    meanage=FloatField(default=20)\n",
    "    sex=FloatField(default=0.5)\n",
    "\n",
    "    likes=IntegerField(default=10)\n",
    "    dislikes=IntegerField(default=10)\n",
    "    shit=IntegerField(default=0)\n",
    "    errors=IntegerField(default=0)\n",
    "    opening=IntegerField(default=0)\n",
    "    treilers=IntegerField(default=0)\n",
    "\n",
    "    class Meta:\n",
    "        database = db\n",
    "        db_table='Films'\n",
    "\n",
    "class Selections(Model):\n",
    "    name = TextField()\n",
    "    user_id = IntegerField(default=0)\n",
    "    stars = FloatField(default=0)\n",
    "    films = ArrayField(IntegerField,default=[])\n",
    "\n",
    "    class Meta:\n",
    "        database = db\n",
    "        db_table='Selections'\n",
    "\n",
    "class Messages(Model):\n",
    "    mes_id = TextField(unique=True)\n",
    "    text = TextField(default=\"\")\n",
    "    reply_markup = JSONField(default={})\n",
    "    user = IntegerField(default=0)\n",
    "    btime = DateField(null=True)\n",
    "\n",
    "    class Meta:\n",
    "        database = db\n",
    "        db_table='Messages'\n",
    "\n",
    "class Config(Model):\n",
    "    name = TextField()\n",
    "    value = TextField()\n",
    "    json=JSONField(default={})\n",
    "\n",
    "    class Meta:\n",
    "        database = db\n",
    "        db_table='Config'\n",
    "\n",
    "class Dataset(Model):\n",
    "    user_value = JSONField()\n",
    "    film_value = JSONField()\n",
    "    result = IntegerField(default=0)\n",
    "    data = DateField()\n",
    "\n",
    "    class Meta:\n",
    "        database = db\n",
    "        db_table='Dataset'"
   ]
  },
  {
   "cell_type": "code",
   "execution_count": null,
   "metadata": {},
   "outputs": [],
   "source": [
    "Films.select().where(Films.stars>9).count()"
   ]
  },
  {
   "cell_type": "code",
   "execution_count": null,
   "metadata": {},
   "outputs": [],
   "source": [
    "Films.update({Films.stars:(3.5*Films.dislikes+1*Films.shit+10*Films.likes)/(Films.likes + Films.shit + Films.dislikes)}).where(Films.stars>10).execute()"
   ]
  },
  {
   "cell_type": "code",
   "execution_count": null,
   "metadata": {},
   "outputs": [],
   "source": [
    "with open(\"collections\",\"r\") as f:\n",
    "    collections=json.load(f)"
   ]
  },
  {
   "cell_type": "code",
   "execution_count": null,
   "metadata": {},
   "outputs": [],
   "source": [
    "col=[]\n",
    "for i , c in tqdm(enumerate(collections)):\n",
    "    col.append({\n",
    "         \"name\":c,\n",
    "         \"films\":[int(k) for k in collections[c]]\n",
    "     })\n",
    "    if i % 100 ==0:\n",
    "        Selections.insert_many(col).execute()\n",
    "        col=[]\n",
    "Selections.insert_many(col).execute()"
   ]
  },
  {
   "cell_type": "code",
   "execution_count": null,
   "metadata": {},
   "outputs": [],
   "source": [
    "fms=[]\n",
    "db.rollback()\n",
    "with open(\"films.jsonlines\",\"r\") as f:\n",
    "    for k, line in tqdm(enumerate(f.readlines())):\n",
    "        film = json.loads(line)\n",
    "        info=film.copy()\n",
    "        if \"Жанр\" not in film:\n",
    "            film[\"Жанр\"]=\"\"\n",
    "        \n",
    "        \n",
    "        comp_film={\n",
    "            \"name\":info[\"name\"],\n",
    "            \"discr\":info[\"discr\"],\n",
    "            \"img\":info[\"img\"],\n",
    "            \"youtube\":info[\"youtube\"],\n",
    "            \"film_id\":info[\"film_id\"],   \n",
    "            \"stars\":0,\n",
    "            \"ganres\":[gange.index(g) for g in film[\"Жанр\"].replace(\" \",\"\").replace(\".\",\"\").split(\",\")]\n",
    "        }\n",
    "        try:\n",
    "            comp_film[\"year\"]=int(re.search(r\"\\(\\d+\\)\",info[\"name\"])[0][1:-1])\n",
    "            comp_film[\"name\"]=comp_film[\"name\"].replace(re.search(r\"\\(\\d+\\)\",info[\"name\"])[0],\"\")\n",
    "        except:\n",
    "            print(comp_film[\"name\"])\n",
    "            comp_film[\"year\"]=2000\n",
    "#             break\n",
    "            \n",
    "        if \"Рейтинг\" in info:\n",
    "            comp_film[\"stars\"] = float(info[\"Рейтинг\"].replace(\" \",\"\").replace(\",\",\".\").replace(\"%\",\"\"))/10\n",
    "        del info[\"name\"]\n",
    "        del info[\"discr\"]\n",
    "        del info[\"img\"]\n",
    "        del info[\"youtube\"]\n",
    "        del info[\"film_id\"]\n",
    "#         info[\"Год выпуска\"]=comp_film[\"year\"]\n",
    "        del info[\"data\"]\n",
    "\n",
    "        \n",
    "        comp_film[\"selections\"]=[]\n",
    "        comp_film[\"level\"]=4\n",
    "        \n",
    "            \n",
    "        comp_film[\"info\"]=info\n",
    "#         break\n",
    "        \n",
    "        fms.append(comp_film)\n",
    "        if k % 500 == 0:\n",
    "            Films.insert_many(fms).on_conflict_ignore().execute()   \n",
    "            fms=[]\n",
    "Films.insert_many(fms).on_conflict_ignore().execute()"
   ]
  },
  {
   "cell_type": "code",
   "execution_count": null,
   "metadata": {},
   "outputs": [],
   "source": [
    "len(Films.select().where(Films.level==1).count().execute())"
   ]
  },
  {
   "cell_type": "code",
   "execution_count": null,
   "metadata": {},
   "outputs": [],
   "source": [
    "with open(\"films\",\"w\") as f:\n",
    "    json.dump(fms,f)"
   ]
  },
  {
   "cell_type": "markdown",
   "metadata": {},
   "source": [
    "**Ganre**"
   ]
  },
  {
   "cell_type": "code",
   "execution_count": null,
   "metadata": {},
   "outputs": [],
   "source": [
    "with open(\"gange\",\"r\") as f:\n",
    "    gange = json.load(f)"
   ]
  },
  {
   "cell_type": "code",
   "execution_count": 2,
   "metadata": {},
   "outputs": [],
   "source": [
    "with open(\"films\",\"r\") as f:\n",
    "    films=json.load(f)"
   ]
  },
  {
   "cell_type": "code",
   "execution_count": 3,
   "metadata": {},
   "outputs": [
    {
     "data": {
      "text/plain": [
       "{'name': 'Загадочное убийство (2019) ',\n",
       " 'discr': 'Чтобы оживить семейные отношения полицейский из Нью-Йорка вместе со своей женой отправляются в путешествие по Европе. В самолете они знакомятся с богатым пожилым мужчиной, который приглашает их на свою роскошную яхту. Но там его убивают, а они становятся главными подозреваемыми...',\n",
       " 'img': 'https://my-hit.org//storage/2034299_210x300x50x2.jpg',\n",
       " 'youtube': 'https://www.youtube.com',\n",
       " 'film_id': '434835',\n",
       " 'stars': 8.370000000000001,\n",
       " 'selections': [1,\n",
       "  22,\n",
       "  133,\n",
       "  145,\n",
       "  184,\n",
       "  198,\n",
       "  199,\n",
       "  224,\n",
       "  263,\n",
       "  319,\n",
       "  358,\n",
       "  393,\n",
       "  394,\n",
       "  395,\n",
       "  396,\n",
       "  407,\n",
       "  438,\n",
       "  450,\n",
       "  470,\n",
       "  505,\n",
       "  548,\n",
       "  829,\n",
       "  1040,\n",
       "  1051,\n",
       "  1054,\n",
       "  1225,\n",
       "  1330,\n",
       "  1420,\n",
       "  1422,\n",
       "  1439,\n",
       "  1556,\n",
       "  1575,\n",
       "  1584,\n",
       "  1585,\n",
       "  1586],\n",
       " 'info': {'Рейтинг': ' 83,7%',\n",
       "  'Качество': ' WEB-DL',\n",
       "  'Звук': ' ПД',\n",
       "  'Жанр': ' Боевик, Комедия, Детектив.',\n",
       "  'Год': ' 2019.',\n",
       "  'Страна': ' США.',\n",
       "  'Режиссер': ' Kyle Newacheck.',\n",
       "  'В ролях': ' Адам Сэндлер, Дженнифер Энистон, Люк Эванс, Теренс Стамп, Джемма Артертон, Дэвид Уоллиамс, Дэни Бун, Джон Кэни.',\n",
       "  'Дата выхода': 'Добавлен: 05.07.2019'}}"
      ]
     },
     "execution_count": 3,
     "metadata": {},
     "output_type": "execute_result"
    }
   ],
   "source": [
    "films[0]"
   ]
  },
  {
   "cell_type": "code",
   "execution_count": 7,
   "metadata": {},
   "outputs": [
    {
     "data": {
      "text/plain": [
       "26374"
      ]
     },
     "execution_count": 7,
     "metadata": {},
     "output_type": "execute_result"
    }
   ],
   "source": [
    "len(films[\"\"])"
   ]
  },
  {
   "cell_type": "code",
   "execution_count": 10,
   "metadata": {},
   "outputs": [],
   "source": [
    "no=0\n",
    "ganre=[]\n",
    "for film in films:\n",
    "    if not \"Жанр\" in film[\"info\"]:\n",
    "        no+=1\n",
    "        continue\n",
    "    for g in film[\"info\"][\"Жанр\"].replace(\" \",\"\").replace(\".\",\"\").split(\",\"):\n",
    "        if not g in ganre:\n",
    "            ganre.append(g)"
   ]
  },
  {
   "cell_type": "code",
   "execution_count": 13,
   "metadata": {},
   "outputs": [
    {
     "data": {
      "text/plain": [
       "23"
      ]
     },
     "execution_count": 13,
     "metadata": {},
     "output_type": "execute_result"
    }
   ],
   "source": [
    "ganre.index(\"\")"
   ]
  },
  {
   "cell_type": "code",
   "execution_count": null,
   "metadata": {},
   "outputs": [],
   "source": [
    "similars={}\n",
    "for g in gange:\n",
    "    similars[g]={}\n",
    "no=0\n",
    "with open(\"films.jsonlines\",\"r\") as f:\n",
    "    for k, line in tqdm(enumerate(f.readlines())):\n",
    "        film = json.loads(line)\n",
    "#         print(film)\n",
    "#         break\n",
    "        if not \"Жанр\" in film:\n",
    "            no+=1\n",
    "            continue\n",
    "        for g in film[\"Жанр\"].replace(\" \",\"\").replace(\".\",\"\").split(\",\"):\n",
    "            for g2 in film[\"Жанр\"].replace(\" \",\"\").replace(\".\",\"\").split(\",\"):\n",
    "                if g2 in similars[g]:\n",
    "                    similars[g][g2]+=1\n",
    "                else:\n",
    "                    similars[g][g2]=1\n",
    "        \n",
    "print(no)        "
   ]
  },
  {
   "cell_type": "code",
   "execution_count": null,
   "metadata": {},
   "outputs": [],
   "source": [
    "variants={}\n",
    "for s in similars:\n",
    "    top = sorted(similars[s],key=lambda k:similars[s][k])[-5:-1]\n",
    "    variants[s] = top"
   ]
  },
  {
   "cell_type": "code",
   "execution_count": null,
   "metadata": {},
   "outputs": [],
   "source": [
    "bests={}\n",
    "for v in variants:\n",
    "    with open(\"films.jsonlines\",\"r\") as f:\n",
    "        for k, line in tqdm(enumerate(f.readlines())):\n",
    "            film = json.loads(line)\n",
    "            if not \"Жанр\" in film:\n",
    "                no+=1\n",
    "                continue\n",
    "            cont=False\n",
    "            for g in film[\"Жанр\"].replace(\" \",\"\").replace(\".\",\"\").split(\",\"):\n",
    "                if g not in variants[v]:\n",
    "                    cont=True\n",
    "                    break\n",
    "            if cont:\n",
    "                continue\n",
    "                    \n",
    "            if not v in bests:\n",
    "                bests[v]=[]\n",
    "            bests[v].append(film[\"film_id\"])\n",
    "            print(fms[film[\"film_id\"]+])"
   ]
  },
  {
   "cell_type": "code",
   "execution_count": null,
   "metadata": {},
   "outputs": [],
   "source": [
    "for b in bests:            \n",
    "    bests[b]=sorted(bests[b],key = lambda k: fms[str(k)][\"stars\"]+len(fms[str(k)][\"selections\"])/5)[-10:]"
   ]
  }
 ],
 "metadata": {
  "kernelspec": {
   "display_name": "Python 3",
   "language": "python",
   "name": "python3"
  },
  "language_info": {
   "codemirror_mode": {
    "name": "ipython",
    "version": 3
   },
   "file_extension": ".py",
   "mimetype": "text/x-python",
   "name": "python",
   "nbconvert_exporter": "python",
   "pygments_lexer": "ipython3",
   "version": "3.7.0"
  }
 },
 "nbformat": 4,
 "nbformat_minor": 2
}
