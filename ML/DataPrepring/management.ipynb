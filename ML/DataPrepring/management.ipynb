{
 "cells": [
  {
   "cell_type": "code",
   "execution_count": 1,
   "metadata": {},
   "outputs": [],
   "source": [
    "import requests\n",
    "from bs4 import BeautifulSoup\n",
    "import re\n",
    "import json\n",
    "from tqdm import tqdm_notebook as tqdm\n",
    "import psycopg2  \n",
    "from peewee import *\n",
    "from playhouse.postgres_ext import PostgresqlExtDatabase, JSONField, ArrayField"
   ]
  },
  {
   "cell_type": "code",
   "execution_count": 5,
   "metadata": {},
   "outputs": [],
   "source": [
    "bdname='sinesearch_db'\n",
    "bduser = 'postgres'\n",
    "bdpassword = 'nef441'\n",
    "bdhost = '51.79.69.179'\n",
    "bdport = 5432\n",
    "\n",
    "db = PostgresqlExtDatabase(bdname, user=bduser, password=bdpassword,\n",
    "                           host=bdhost, port=bdport)"
   ]
  },
  {
   "cell_type": "code",
   "execution_count": 6,
   "metadata": {},
   "outputs": [],
   "source": [
    "class Users(Model):\n",
    "    tel_id=IntegerField(index=True)\n",
    "    vk_id=IntegerField()\n",
    "    name = TextField()\n",
    "    nicname = TextField(null=True)\n",
    "    ustatus=IntegerField(default=0)\n",
    "    age=IntegerField(default=20)\n",
    "    sex=IntegerField(default=0)\n",
    "    ganres=JSONField(default={})\n",
    "    info=JSONField(default={})\n",
    "    last_visit=DateField(null=True)\n",
    "    mark_wight=FloatField(default=0)\n",
    "    just_marked = IntegerField(default=1)\n",
    "\n",
    "    cms=IntegerField(default=0)\n",
    "    cfid=IntegerField(default=0)\n",
    "    cfmes=IntegerField(default=0)\n",
    "    ctmes=IntegerField(default=0)\n",
    "    liked=ArrayField(IntegerField,default=[])\n",
    "    viewed=ArrayField(IntegerField,default=[])\n",
    "    disliked=ArrayField(IntegerField,default=[])\n",
    "    predict_films=ArrayField(IntegerField,default=[])\n",
    "    selections=JSONField(default={})\n",
    "\n",
    "    class Meta:\n",
    "        database = db\n",
    "        db_table='Users'\n",
    "\n",
    "class Films(Model):\n",
    "    film_id=IntegerField(unique=True,index=True)\n",
    "    name = TextField()\n",
    "    discr = TextField(null=True)\n",
    "    img = TextField(null=True)\n",
    "    youtube=TextField(default=\"\")\n",
    "    stars = FloatField(default=0)\n",
    "    info=JSONField(default={})\n",
    "    level=IntegerField(default=0)\n",
    "    selections=ArrayField(IntegerField,default=[])\n",
    "    year=IntegerField(default=2000)\n",
    "\n",
    "    ganres=ArrayField(IntegerField,default=[])\n",
    "    meanage=FloatField(default=20)\n",
    "    sex=FloatField(default=0.5)\n",
    "\n",
    "    likes=IntegerField(default=10)\n",
    "    dislikes=IntegerField(default=10)\n",
    "    shit=IntegerField(default=0)\n",
    "    errors=IntegerField(default=0)\n",
    "    opening=IntegerField(default=0)\n",
    "    treilers=IntegerField(default=0)\n",
    "\n",
    "    class Meta:\n",
    "        database = db\n",
    "        db_table='Films'\n",
    "\n",
    "class Selections(Model):\n",
    "    name = TextField()\n",
    "    user_id = IntegerField(default=0)\n",
    "    stars = FloatField(default=0)\n",
    "    films = ArrayField(IntegerField,default=[])\n",
    "\n",
    "    class Meta:\n",
    "        database = db\n",
    "        db_table='Selections'\n",
    "\n",
    "class Messages(Model):\n",
    "    mes_id = TextField(unique=True)\n",
    "    text = TextField(default=\"\")\n",
    "    reply_markup = JSONField(default={})\n",
    "    user = IntegerField(default=0)\n",
    "    btime = DateField(null=True)\n",
    "\n",
    "    class Meta:\n",
    "        database = db\n",
    "        db_table='Messages'\n",
    "\n",
    "class Config(Model):\n",
    "    name = TextField()\n",
    "    value = TextField()\n",
    "    json=JSONField(default={})\n",
    "\n",
    "    class Meta:\n",
    "        database = db\n",
    "        db_table='Config'\n",
    "\n",
    "class Dataset(Model):\n",
    "    user_value = JSONField()\n",
    "    film_value = JSONField()\n",
    "    result = IntegerField(default=0)\n",
    "    data = DateField()\n",
    "\n",
    "    class Meta:\n",
    "        database = db\n",
    "        db_table='Dataset'"
   ]
  },
  {
   "cell_type": "markdown",
   "metadata": {},
   "source": [
    "# Edit Constants"
   ]
  },
  {
   "cell_type": "code",
   "execution_count": 10,
   "metadata": {},
   "outputs": [
    {
     "name": "stdout",
     "output_type": "stream",
     "text": [
      "Name: WEIGHT_YEAR\n",
      "Value: 5\n"
     ]
    },
    {
     "data": {
      "text/plain": [
       "1"
      ]
     },
     "execution_count": 10,
     "metadata": {},
     "output_type": "execute_result"
    }
   ],
   "source": [
    "name=input(\"Name: \")\n",
    "val=input(\"Value: \")\n",
    "Config.update({\"value\":val}).where(Config.name==name).execute()"
   ]
  },
  {
   "cell_type": "code",
   "execution_count": 8,
   "metadata": {},
   "outputs": [
    {
     "data": {
      "text/plain": [
       "0"
      ]
     },
     "execution_count": 8,
     "metadata": {},
     "output_type": "execute_result"
    }
   ],
   "source": [
    "Films.update({Films.stars:(Films.likes*10+Films.dislikes*3+Films.shit*1)/(Films.likes+Films.dislikes+Films.shit)}).where(Films.stars>10).execute()"
   ]
  },
  {
   "cell_type": "markdown",
   "metadata": {},
   "source": [
    "# Server Information"
   ]
  },
  {
   "cell_type": "code",
   "execution_count": 22,
   "metadata": {},
   "outputs": [
    {
     "data": {
      "text/html": [
       "<b style=\"width=300px;\">Users</b>   59</br><b style=\"width=300px;\">Films</b>   26392</br><b style=\"width=300px;\">Messages</b>   1183</br><b style=\"width=300px;\">Dataset</b>   584</br><b style=\"width=300px;\">Dataset Day</b>   20</br>"
      ],
      "text/plain": [
       "<IPython.core.display.HTML object>"
      ]
     },
     "execution_count": 22,
     "metadata": {},
     "output_type": "execute_result"
    }
   ],
   "source": [
    "from datetime import datetime,timedelta\n",
    "dat = datetime.now() - timedelta(days=2)\n",
    "\n",
    "info={\n",
    "    \"Users\":Users.select().count(),\n",
    "    \"Films\":Films.select().count(),\n",
    "    \"Messages\":Messages.select().count(),\n",
    "    \"Dataset\":Dataset.select().count(),\n",
    "    \"Dataset Day\":Dataset.select().where(Dataset.data>dat).count(),\n",
    "\n",
    "}\n",
    "from IPython.core.display import HTML\n",
    "html=\"\"\n",
    "for i in info:\n",
    "    html+=\"<b style=\\\"width=300px;\\\">\"+i+\"</b>   \"+str(info[i])+\"</br>\"\n",
    "HTML(html)"
   ]
  },
  {
   "cell_type": "code",
   "execution_count": 23,
   "metadata": {},
   "outputs": [],
   "source": [
    "CONFIG = {}\n",
    "for c in Config.select():\n",
    "    if c.value == \"json\":\n",
    "        CONFIG[c.name] = c.json\n",
    "    else:\n",
    "        CONFIG[c.name] = c.value"
   ]
  },
  {
   "cell_type": "code",
   "execution_count": 24,
   "metadata": {},
   "outputs": [],
   "source": [
    "import telebot\n",
    "from telebot import types\n",
    "bot = telebot.TeleBot(CONFIG[\"TELEGRAM_TOKEN\"])\n"
   ]
  },
  {
   "cell_type": "code",
   "execution_count": 25,
   "metadata": {},
   "outputs": [],
   "source": [
    "text=\"Нас уже больше 100 человек! рады сообщить, что вчара было произведено первое дообучение бота на данных пользователей (за 3 дня вы разметили более 1200 фильмов). Следующее дообучение будет при достижении 300 пользователей, если мы достигнем этого числа до понедельника, в боте появится раздел с новинками кино.\\nДля этого надо рассказать о боте всего 2ум людям, это кудп роще чем кажется. Как только мы наберем 1000 пользователей качество должно достигнуть 6 кликов до нужного фильма!\""
   ]
  },
  {
   "cell_type": "code",
   "execution_count": 27,
   "metadata": {},
   "outputs": [
    {
     "name": "stdout",
     "output_type": "stream",
     "text": [
      "Melissa None\n",
      "Pavel Zolotov\n",
      "Valeriy Mironov\n",
      "🐦 None\n"
     ]
    }
   ],
   "source": [
    "for u in Users.select().execute():\n",
    "    try:\n",
    "        bot.send_message(chat_id=u.tel_id,\n",
    "                             parse_mode=\"HTML\",\n",
    "                             text=text)\n",
    "    except:\n",
    "        print(u.name)"
   ]
  },
  {
   "cell_type": "code",
   "execution_count": null,
   "metadata": {},
   "outputs": [],
   "source": []
  }
 ],
 "metadata": {
  "kernelspec": {
   "display_name": "Python 3",
   "language": "python",
   "name": "python3"
  },
  "language_info": {
   "codemirror_mode": {
    "name": "ipython",
    "version": 3
   },
   "file_extension": ".py",
   "mimetype": "text/x-python",
   "name": "python",
   "nbconvert_exporter": "python",
   "pygments_lexer": "ipython3",
   "version": "3.7.0"
  }
 },
 "nbformat": 4,
 "nbformat_minor": 2
}
