{
 "cells": [
  {
   "cell_type": "markdown",
   "metadata": {},
   "source": [
    "# Initialization"
   ]
  },
  {
   "cell_type": "code",
   "execution_count": 3,
   "metadata": {},
   "outputs": [],
   "source": [
    "import requests\n",
    "from bs4 import BeautifulSoup\n",
    "import re\n",
    "import json\n",
    "from tqdm import tqdm_notebook as tqdm\n",
    "import psycopg2  \n",
    "from peewee import *\n",
    "from playhouse.postgres_ext import PostgresqlExtDatabase, JSONField, ArrayField\n",
    "from playhouse.shortcuts import model_to_dict\n",
    "import numpy as np"
   ]
  },
  {
   "cell_type": "code",
   "execution_count": 4,
   "metadata": {},
   "outputs": [],
   "source": [
    "bdname='sinesearch_db'\n",
    "bduser = 'postgres'\n",
    "bdpassword = 'nef441'\n",
    "bdhost = '51.79.69.179'\n",
    "bdport = 5432\n",
    "\n",
    "db = PostgresqlExtDatabase(bdname, user=bduser, password=bdpassword,\n",
    "                           host=bdhost, port=bdport,autoconnect=True, autorollback=True)\n",
    "\n",
    "db_new = PostgresqlExtDatabase(\"cs_db\", user=bduser, password=bdpassword,\n",
    "                           host=bdhost, port=bdport,autoconnect=True, autorollback=True)"
   ]
  },
  {
   "cell_type": "code",
   "execution_count": 5,
   "metadata": {},
   "outputs": [],
   "source": [
    "\n",
    "from peewee import *\n",
    "from playhouse.postgres_ext import PostgresqlExtDatabase, JSONField, ArrayField\n",
    "\n",
    "class Films(Model):\n",
    "    film_id=IntegerField(unique=True,index=True)\n",
    "    stars = FloatField(default=0)\n",
    "    level=IntegerField(default=0,null=True)\n",
    "    year=IntegerField(default=2000)\n",
    "    vector=ArrayField(FloatField,default=[])\n",
    "\n",
    "    ganres=ArrayField(FloatField,default=[])\n",
    "    meanage=FloatField(default=20)\n",
    "    sex=FloatField(default=0.5)\n",
    "\n",
    "    likes=IntegerField(default=10)\n",
    "    dislikes=IntegerField(default=10)\n",
    "    shit=IntegerField(default=0)\n",
    "    marks=IntegerField(default=0)\n",
    "\n",
    "    errors=IntegerField(default=0)\n",
    "    opening=IntegerField(default=0)\n",
    "    count_triler=IntegerField(default=0)\n",
    "\n",
    "    class Meta:\n",
    "        database = db_new\n",
    "        db_table='Films_fp'\n",
    "        \n",
    "        \n",
    "class FilmsFW(Model):\n",
    "    film_id = IntegerField(unique=True, index=True)\n",
    "    name = TextField()\n",
    "    discr = TextField(null=True)\n",
    "    img = TextField(null=True)\n",
    "    youtube = TextField(default=\"\")\n",
    "    stars = FloatField(default=0)\n",
    "    info = JSONField(default={})\n",
    "    treilers = IntegerField(default=0)\n",
    "\n",
    "    class Meta:\n",
    "        database = db_new\n",
    "        db_table = 'Films_fw'\n",
    "        \n",
    "class Users(Model):\n",
    "    user_id=IntegerField(index=True,null=False)\n",
    "    age=IntegerField(default=20)\n",
    "    sex=IntegerField(default=0)\n",
    "\n",
    "    ganres=ArrayField(FloatField,default=[])\n",
    "    group=IntegerField(default=-1)\n",
    "    mark_wight=FloatField(default=0)\n",
    "    just_marked = IntegerField(default=1)\n",
    "\n",
    "    liked=ArrayField(IntegerField,default=[])\n",
    "    viewed=ArrayField(IntegerField,default=[])\n",
    "    disliked=ArrayField(IntegerField,default=[])\n",
    "    \n",
    "    disliked_vector=ArrayField(FloatField,default=[])\n",
    "    liked_vector=ArrayField(FloatField,default=[])\n",
    "\n",
    "    predict_films=ArrayField(IntegerField,default=[])\n",
    "\n",
    "    class Meta:\n",
    "        database = db_new\n",
    "        db_table='Users_fp'\n",
    "        \n",
    "class usualFilms(Model):\n",
    "    film_id=IntegerField(unique=True,index=True)\n",
    "    name = TextField()\n",
    "    discr = TextField(null=True)\n",
    "    img = TextField(null=True)\n",
    "    youtube=TextField(default=\"\")\n",
    "    stars = FloatField(default=0)\n",
    "    info=JSONField(default={})\n",
    "    level=IntegerField(default=0)\n",
    "    selections=ArrayField(IntegerField,default=[])\n",
    "    year=IntegerField(default=2000)\n",
    "\n",
    "    ganres=ArrayField(IntegerField,default=[])\n",
    "    meanage=FloatField(default=20)\n",
    "    sex=FloatField(default=0.5)\n",
    "\n",
    "    likes=IntegerField(default=10)\n",
    "    dislikes=IntegerField(default=10)\n",
    "    shit=IntegerField(default=0)\n",
    "    errors=IntegerField(default=0)\n",
    "    opening=IntegerField(default=0)\n",
    "    treilers=IntegerField(default=0)\n",
    "\n",
    "    class Meta:\n",
    "        database = db\n",
    "        db_table='Films'\n",
    "        \n",
    "class usualUsers(Model):\n",
    "    tel_id=IntegerField(index=True)\n",
    "    vk_id=IntegerField()\n",
    "    name = TextField()\n",
    "    nicname = TextField(null=True)\n",
    "    ustatus=IntegerField(default=0)\n",
    "    age=IntegerField(default=20)\n",
    "    sex=IntegerField(default=0)\n",
    "    ganres=JSONField(default={})\n",
    "    group=IntegerField(default=-1)\n",
    "    info=JSONField(default={})\n",
    "    last_visit=DateField(null=True)\n",
    "    mark_wight=FloatField(default=0)\n",
    "    just_marked = IntegerField(default=1)\n",
    "\n",
    "    cms=IntegerField(default=0)\n",
    "    cfid=IntegerField(default=0)\n",
    "    cfmes=IntegerField(default=0)\n",
    "    ctmes=IntegerField(default=0)\n",
    "    liked=ArrayField(IntegerField,default=[])\n",
    "    viewed=ArrayField(IntegerField,default=[])\n",
    "    disliked=ArrayField(IntegerField,default=[])\n",
    "    predict_films=ArrayField(IntegerField,default=[])\n",
    "    selections=JSONField(default={})\n",
    "\n",
    "    class Meta:\n",
    "        database = db\n",
    "        db_table='Users'\n",
    "        \n",
    "class UsersTG(Model):\n",
    "    tel_id = IntegerField(index=True)\n",
    "    vk_id = IntegerField()\n",
    "    name = TextField()\n",
    "    nicname = TextField(null=True)\n",
    "    ustatus = IntegerField(default=0)\n",
    "    info = JSONField(default={})\n",
    "    last_visit = DateTimeField(null=True)\n",
    "    just_marked = IntegerField(default=1)\n",
    "    predict_films=ArrayField(IntegerField,default=[])\n",
    "\n",
    "    cms = IntegerField(default=0)\n",
    "    cfid = IntegerField(default=0)\n",
    "    cfmes = IntegerField(default=0)\n",
    "    ctmes = IntegerField(default=0)\n",
    "\n",
    "    class Meta:\n",
    "        database = db_new\n",
    "        db_table = 'UsersTG'"
   ]
  },
  {
   "cell_type": "code",
   "execution_count": 52,
   "metadata": {},
   "outputs": [],
   "source": [
    "Films.create_table()\n",
    "UsersTG.create_table()\n",
    "Users.create_table()\n",
    "FilmsFW.create_table()"
   ]
  },
  {
   "cell_type": "code",
   "execution_count": 124,
   "metadata": {},
   "outputs": [
    {
     "data": {
      "text/plain": [
       "216"
      ]
     },
     "execution_count": 124,
     "metadata": {},
     "output_type": "execute_result"
    }
   ],
   "source": [
    "import datetime\n",
    "UsersTG.update({UsersTG.last_visit : datetime.datetime.now()}).execute()"
   ]
  },
  {
   "cell_type": "markdown",
   "metadata": {},
   "source": [
    "# Move TG users"
   ]
  },
  {
   "cell_type": "code",
   "execution_count": 41,
   "metadata": {},
   "outputs": [],
   "source": [
    "UsersTG.drop_table()\n",
    "UsersTG.create_table()"
   ]
  },
  {
   "cell_type": "code",
   "execution_count": 42,
   "metadata": {},
   "outputs": [
    {
     "data": {
      "text/plain": [
       "216"
      ]
     },
     "execution_count": 42,
     "metadata": {},
     "output_type": "execute_result"
    }
   ],
   "source": [
    "usualUsers.select().count()"
   ]
  },
  {
   "cell_type": "code",
   "execution_count": 102,
   "metadata": {},
   "outputs": [
    {
     "data": {
      "application/vnd.jupyter.widget-view+json": {
       "model_id": "5faa9481bf1644c1b507ee33e6df7ff0",
       "version_major": 2,
       "version_minor": 0
      },
      "text/plain": [
       "HBox(children=(IntProgress(value=0, max=2), HTML(value='')))"
      ]
     },
     "metadata": {},
     "output_type": "display_data"
    },
    {
     "name": "stdout",
     "output_type": "stream",
     "text": [
      "\n"
     ]
    }
   ],
   "source": [
    "users=[]\n",
    "x=usualUsers.select().count()\n",
    "for i in tqdm(range(0,x,100),total=x//100):\n",
    "    res = usualUsers.select().order_by(usualUsers.id).limit(100).offset(i).execute()\n",
    "    for r in res:\n",
    "        users.append(model_to_dict(r))"
   ]
  },
  {
   "cell_type": "code",
   "execution_count": 100,
   "metadata": {},
   "outputs": [
    {
     "data": {
      "text/plain": [
       "dict_keys(['id', 'tel_id', 'vk_id', 'name', 'nicname', 'ustatus', 'age', 'info', 'last_visit', 'just_marked', 'cms', 'cfid', 'cfmes', 'ctmes', 'predict_films'])"
      ]
     },
     "execution_count": 100,
     "metadata": {},
     "output_type": "execute_result"
    }
   ],
   "source": [
    "users[0].keys()"
   ]
  },
  {
   "cell_type": "code",
   "execution_count": 103,
   "metadata": {},
   "outputs": [],
   "source": [
    "res=[]\n",
    "for u in users:\n",
    "    del u[\"selections\"]\n",
    "    del u[\"disliked\"]\n",
    "    del u[\"viewed\"]\n",
    "    del u[\"liked\"]\n",
    "    del u[\"mark_wight\"]\n",
    "    del u[\"group\"]\n",
    "    del u[\"ganres\"]\n",
    "    del u[\"sex\"]\n",
    "    del u[\"age\"]\n",
    "#     del u[\"predict_films\"]\n",
    "    res.append(u)"
   ]
  },
  {
   "cell_type": "code",
   "execution_count": 104,
   "metadata": {},
   "outputs": [
    {
     "data": {
      "text/plain": [
       "{'id': 3,\n",
       " 'tel_id': 313579788,\n",
       " 'vk_id': 148529786,\n",
       " 'name': 'Karen Armenakyan',\n",
       " 'nicname': 'Pofdj',\n",
       " 'ustatus': 1,\n",
       " 'info': {},\n",
       " 'last_visit': datetime.date(2019, 11, 22),\n",
       " 'just_marked': 381,\n",
       " 'cms': 3,\n",
       " 'cfid': 2670,\n",
       " 'cfmes': 9534,\n",
       " 'ctmes': 0,\n",
       " 'predict_films': [6256, 5757]}"
      ]
     },
     "execution_count": 104,
     "metadata": {},
     "output_type": "execute_result"
    }
   ],
   "source": [
    "res[0]"
   ]
  },
  {
   "cell_type": "code",
   "execution_count": 106,
   "metadata": {},
   "outputs": [
    {
     "data": {
      "text/plain": [
       "<peewee.ModelTupleCursorWrapper at 0x218cb858a58>"
      ]
     },
     "execution_count": 106,
     "metadata": {},
     "output_type": "execute_result"
    }
   ],
   "source": [
    "# UsersTG.drop_table()\n",
    "# UsersTG.create_table()\n",
    "UsersTG.insert_many(res).execute()"
   ]
  },
  {
   "cell_type": "code",
   "execution_count": 107,
   "metadata": {},
   "outputs": [
    {
     "data": {
      "text/plain": [
       "216"
      ]
     },
     "execution_count": 107,
     "metadata": {},
     "output_type": "execute_result"
    }
   ],
   "source": [
    "UsersTG.select().count()"
   ]
  },
  {
   "cell_type": "markdown",
   "metadata": {},
   "source": [
    "# Move Lite Films"
   ]
  },
  {
   "cell_type": "code",
   "execution_count": 25,
   "metadata": {},
   "outputs": [
    {
     "data": {
      "application/vnd.jupyter.widget-view+json": {
       "model_id": "1732ee6b40b949888e311c856d93867e",
       "version_major": 2,
       "version_minor": 0
      },
      "text/plain": [
       "HBox(children=(IntProgress(value=0, max=263), HTML(value='')))"
      ]
     },
     "metadata": {},
     "output_type": "display_data"
    },
    {
     "name": "stdout",
     "output_type": "stream",
     "text": [
      "\n"
     ]
    }
   ],
   "source": [
    "films=[]\n",
    "x=usualFilms.select().count()\n",
    "for i in tqdm(range(0,x,100),total=x//100):\n",
    "    res = usualFilms.select().order_by(usualFilms.id).limit(100).offset(i).execute()\n",
    "    for r in res:\n",
    "        films.append(model_to_dict(r))"
   ]
  },
  {
   "cell_type": "code",
   "execution_count": 26,
   "metadata": {},
   "outputs": [],
   "source": [
    "res=[]\n",
    "for f in films:\n",
    "    res.append({\n",
    "        \"film_id\" : f[\"film_id\"],\n",
    "        \"name\" : f[\"name\"],\n",
    "        \"discr\" : f[\"discr\"],\n",
    "        \"img\" : f[\"img\"],\n",
    "        \"youtube\" : f[\"youtube\"],\n",
    "        \"stars\" : f[\"stars\"],\n",
    "        \"info\" : f[\"info\"],\n",
    "        \"treilers\" : f[\"treilers\"]\n",
    "    })"
   ]
  },
  {
   "cell_type": "code",
   "execution_count": 35,
   "metadata": {},
   "outputs": [],
   "source": [
    "FilmsFW.create_table()"
   ]
  },
  {
   "cell_type": "code",
   "execution_count": 37,
   "metadata": {},
   "outputs": [
    {
     "data": {
      "text/plain": [
       "26392"
      ]
     },
     "execution_count": 37,
     "metadata": {},
     "output_type": "execute_result"
    }
   ],
   "source": [
    "FilmsFW.select().count()"
   ]
  },
  {
   "cell_type": "code",
   "execution_count": 36,
   "metadata": {},
   "outputs": [],
   "source": [
    "# FilmsFW.insert_many(res).execute()\n",
    "\n",
    "user_list = [FilmsFW(**r) for r in res]\n",
    "\n",
    "# All 10 users are inserted in a single query.\n",
    "FilmsFW.bulk_create(user_list,batch_size=3000)"
   ]
  },
  {
   "cell_type": "markdown",
   "metadata": {},
   "source": [
    "# ================"
   ]
  },
  {
   "cell_type": "code",
   "execution_count": 57,
   "metadata": {},
   "outputs": [],
   "source": [
    "with open(\"data/gange\",\"r\") as f:\n",
    "    gange = json.load(f)"
   ]
  },
  {
   "cell_type": "code",
   "execution_count": 146,
   "metadata": {},
   "outputs": [],
   "source": [
    "# Films.drop_table()\n",
    "# Films.create_table()\n",
    "\n",
    "# Users.create_table()"
   ]
  },
  {
   "cell_type": "code",
   "execution_count": null,
   "metadata": {},
   "outputs": [],
   "source": [
    "Films.select().count()"
   ]
  },
  {
   "cell_type": "code",
   "execution_count": 110,
   "metadata": {},
   "outputs": [
    {
     "data": {
      "text/plain": [
       "Sequential(\n",
       "  (0): Embedding(69127, 16)\n",
       "  (1): LSTM(16, 128)\n",
       ")"
      ]
     },
     "execution_count": 110,
     "metadata": {},
     "output_type": "execute_result"
    }
   ],
   "source": [
    "import torch\n",
    "import os\n",
    "import json\n",
    "import time\n",
    "from tqdm import tqdm_notebook as tqdm\n",
    "from predict import predict\n",
    "model = torch.load(\"model_lstm_short\")\n",
    "model.eval()"
   ]
  },
  {
   "cell_type": "markdown",
   "metadata": {},
   "source": [
    "# Move films"
   ]
  },
  {
   "cell_type": "code",
   "execution_count": 80,
   "metadata": {},
   "outputs": [
    {
     "data": {
      "application/vnd.jupyter.widget-view+json": {
       "model_id": "04cceb06373c42ec828b5c3d2da2d483",
       "version_major": 2,
       "version_minor": 0
      },
      "text/plain": [
       "HBox(children=(IntProgress(value=0, max=53), HTML(value='')))"
      ]
     },
     "metadata": {},
     "output_type": "display_data"
    },
    {
     "name": "stdout",
     "output_type": "stream",
     "text": [
      "\n"
     ]
    }
   ],
   "source": [
    "all_films={}\n",
    "all_films_arr=[]\n",
    "\n",
    "for i in tqdm(range(0,26392,500)):\n",
    "    res = Films.select().order_by(Films.id).limit(500).offset(i).execute()\n",
    "    for f in res:\n",
    "        f=model_to_dict(f)\n",
    "        all_films[f[\"film_id\"]]=f"
   ]
  },
  {
   "cell_type": "code",
   "execution_count": null,
   "metadata": {},
   "outputs": [],
   "source": [
    "all_films={}\n",
    "all_films_arr=[]\n",
    "\n",
    "for i in tqdm(range(0,26392,500)):\n",
    "    res = usualFilms.select().order_by(usualFilms.id).limit(500).offset(i).execute()\n",
    "    arr=[]\n",
    "    for f in res:\n",
    "        f=model_to_dict(f)\n",
    "        del f[\"id\"]\n",
    "        del f[\"name\"]\n",
    "        del f[\"img\"]\n",
    "        del f[\"youtube\"]\n",
    "        del f[\"info\"]\n",
    "        del f[\"level\"]\n",
    "        del f[\"selections\"]\n",
    "        f[\"count_triler\"]=f[\"treilers\"]\n",
    "        del f[\"treilers\"]\n",
    "\n",
    "        ganres=[0 for i in range(26)]\n",
    "        for g in f[\"ganres\"]:\n",
    "            if g>23:\n",
    "                g-=1\n",
    "            if g==23:\n",
    "                continue # \"\"\n",
    "            ganres[g]+=1\n",
    "        f[\"ganres\"] = ganres\n",
    "        f[\"vector\"] = model(predict(f[\"discr\"]))[0][-1][0].tolist()\n",
    "        del f[\"discr\"]\n",
    "\n",
    "        arr.append(f)\n",
    "        all_films_arr.append(f)\n",
    "        all_films[f[\"film_id\"]]=f\n",
    "\n",
    "#     lens=Films.insert_many(arr).on_conflict_ignore().execute()"
   ]
  },
  {
   "cell_type": "code",
   "execution_count": 81,
   "metadata": {},
   "outputs": [],
   "source": [
    "with open(\"data/all_films_fp\",\"w\") as f:\n",
    "    json.dump(all_films,f)"
   ]
  },
  {
   "cell_type": "code",
   "execution_count": 82,
   "metadata": {},
   "outputs": [
    {
     "data": {
      "text/plain": [
       "26392"
      ]
     },
     "execution_count": 82,
     "metadata": {},
     "output_type": "execute_result"
    }
   ],
   "source": [
    "len(all_films)"
   ]
  },
  {
   "cell_type": "markdown",
   "metadata": {},
   "source": [
    "# Move users"
   ]
  },
  {
   "cell_type": "code",
   "execution_count": 65,
   "metadata": {},
   "outputs": [],
   "source": [
    "with open(\"data/all_films_fp\",\"r\") as f:\n",
    "    all_films=json.load(f)"
   ]
  },
  {
   "cell_type": "code",
   "execution_count": 55,
   "metadata": {},
   "outputs": [
    {
     "data": {
      "application/vnd.jupyter.widget-view+json": {
       "model_id": "205767ae83f54b57af99bc68715bc078",
       "version_major": 2,
       "version_minor": 0
      },
      "text/plain": [
       "HBox(children=(IntProgress(value=0, max=2), HTML(value='')))"
      ]
     },
     "metadata": {},
     "output_type": "display_data"
    },
    {
     "name": "stdout",
     "output_type": "stream",
     "text": [
      "\n"
     ]
    }
   ],
   "source": [
    "users=[]\n",
    "x=usualUsers.select().count()\n",
    "for i in tqdm(range(0,x,100)):\n",
    "    res = usualUsers.select().order_by(usualUsers.id).limit(100).offset(i).execute()\n",
    "    for r in res:\n",
    "        users.append(model_to_dict(r))"
   ]
  },
  {
   "cell_type": "code",
   "execution_count": 162,
   "metadata": {},
   "outputs": [],
   "source": [
    "with open(\"all_films_fp\",\"w\") as f:\n",
    "    json.dump(all_films,f)"
   ]
  },
  {
   "cell_type": "code",
   "execution_count": 85,
   "metadata": {},
   "outputs": [],
   "source": [
    "fpusers=[]\n",
    "err=[]\n",
    "for u in users:\n",
    "    ganres=[0 for i in range(len(gange))]\n",
    "    for g in u[\"ganres\"]:\n",
    "        g2=int(g)\n",
    "        if g2>23:\n",
    "            g2-=1\n",
    "        if g2==23:\n",
    "            continue\n",
    "        ganres[g2]=int(u[\"ganres\"][g])\n",
    "        \n",
    "    \n",
    "    \n",
    "    vectors=[]\n",
    "    if len(u[\"viewed\"])==0:\n",
    "        u[\"viewed\"].append(18632)\n",
    "    if len(u[\"liked\"])==0:\n",
    "        u[\"liked\"].append(18632)\n",
    "        \n",
    "    u[\"disliked\"]=[x for x in u[\"disliked\"] if x != 0]\n",
    "    if len(u[\"disliked\"])==0:\n",
    "        u[\"disliked\"].append(1900)\n",
    "        \n",
    "    for f in u[\"viewed\"]:\n",
    "        try:\n",
    "            vectors.append(all_films[f][\"vector\"])\n",
    "        except:\n",
    "            err.append(f)            \n",
    "            \n",
    "    vectors=np.array(vectors)\n",
    "    vectors=vectors.mean(axis=0)\n",
    "    u[\"viewed_vector\"]=vectors\n",
    "    vectors=[]\n",
    "    for f in u[\"disliked\"]:\n",
    "        try:\n",
    "            vectors.append(all_films[f][\"vector\"])\n",
    "        except:\n",
    "            err.append(f)\n",
    "    vectors=np.array(vectors)\n",
    "    vectors=vectors.mean(axis=0)\n",
    "    u[\"disliked_vector\"]=vectors\n",
    "    vectors=[]\n",
    "    for f in u[\"liked\"]:\n",
    "        try:\n",
    "            vectors.append(all_films[f][\"vector\"])\n",
    "        except:\n",
    "            err.append(f)\n",
    "    vectors=np.array(vectors)\n",
    "    vectors=vectors.mean(axis=0)\n",
    "    u[\"liked_vector\"]=vectors\n",
    "    u[\"ganres\"]=ganres\n",
    "    \n",
    "    fpusers.append({\n",
    "        \"user_id\":u[\"tel_id\"],\n",
    "        \"disliked_vector\":u[\"disliked_vector\"].tolist(),\n",
    "        \"liked_vector\":((u[\"liked_vector\"]*2+u[\"viewed_vector\"])/3).tolist(),\n",
    "        \"age\":u[\"age\"],\n",
    "        \"sex\":u[\"sex\"],\n",
    "        \"ganres\":u[\"ganres\"],\n",
    "        \"just_marked\":u[\"just_marked\"],\n",
    "        \"mark_wight\":u[\"mark_wight\"],\n",
    "        \"liked\":u[\"liked\"],\n",
    "        \"viewed\":u[\"viewed\"],\n",
    "        \"disliked\":[x for x in u[\"disliked\"] if x != 0],  \n",
    "    })"
   ]
  },
  {
   "cell_type": "code",
   "execution_count": 86,
   "metadata": {},
   "outputs": [
    {
     "data": {
      "text/plain": [
       "[]"
      ]
     },
     "execution_count": 86,
     "metadata": {},
     "output_type": "execute_result"
    }
   ],
   "source": [
    "err"
   ]
  },
  {
   "cell_type": "code",
   "execution_count": 90,
   "metadata": {},
   "outputs": [
    {
     "data": {
      "text/plain": [
       "1"
      ]
     },
     "execution_count": 90,
     "metadata": {},
     "output_type": "execute_result"
    }
   ],
   "source": [
    "# Users.drop_table()\n",
    "# Users.create_table()\n",
    "UsersTG.select().count()"
   ]
  },
  {
   "cell_type": "code",
   "execution_count": 88,
   "metadata": {},
   "outputs": [
    {
     "data": {
      "text/plain": [
       "<peewee.ModelTupleCursorWrapper at 0x21888a16e80>"
      ]
     },
     "execution_count": 88,
     "metadata": {},
     "output_type": "execute_result"
    }
   ],
   "source": [
    "Users.insert_many(fpusers).on_conflict_ignore().execute()"
   ]
  },
  {
   "cell_type": "code",
   "execution_count": null,
   "metadata": {},
   "outputs": [],
   "source": []
  }
 ],
 "metadata": {
  "kernelspec": {
   "display_name": "Python 3",
   "language": "python",
   "name": "python3"
  },
  "language_info": {
   "codemirror_mode": {
    "name": "ipython",
    "version": 3
   },
   "file_extension": ".py",
   "mimetype": "text/x-python",
   "name": "python",
   "nbconvert_exporter": "python",
   "pygments_lexer": "ipython3",
   "version": "3.7.0"
  }
 },
 "nbformat": 4,
 "nbformat_minor": 2
}
