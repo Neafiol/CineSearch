{
 "cells": [
  {
   "cell_type": "code",
   "execution_count": 9,
   "metadata": {},
   "outputs": [
    {
     "name": "stdout",
     "output_type": "stream",
     "text": [
      "Populating the interactive namespace from numpy and matplotlib\n"
     ]
    },
    {
     "name": "stderr",
     "output_type": "stream",
     "text": [
      "C:\\ProgramData\\Anaconda3\\lib\\site-packages\\IPython\\core\\magics\\pylab.py:160: UserWarning: pylab import has clobbered these variables: ['load']\n",
      "`%matplotlib` prevents importing * from pylab and numpy\n",
      "  \"\\n`%matplotlib` prevents importing * from pylab and numpy\"\n"
     ]
    }
   ],
   "source": [
    "import pandas as pd\n",
    "import matplotlib.pyplot as plt\n",
    "import json\n",
    "import numpy as np\n",
    "from tqdm import tqdm_notebook\n",
    "import IPython\n",
    "%pylab inline"
   ]
  },
  {
   "cell_type": "code",
   "execution_count": 2,
   "metadata": {},
   "outputs": [],
   "source": [
    "df_train = pd.read_csv('data/new_df_train.csv', index_col='id')\n",
    "# df_test = pd.read_csv('data/test_clear_items_heros_demage_data.csv', index_col='id')\n",
    "items = pd.read_csv('data/dota2_items.csv',index_col=\"item_id\")\n",
    "abil = pd.read_csv('data/dota2_abilities.csv',index_col=\"ability_id\")\n",
    "heroes = pd.read_csv('data/dota2_heroes.csv',index_col=\"hero_id\")\n",
    "\n",
    "items[\"cost\"].fillna(0,inplace=True)\n",
    "items[\"qual\"].fillna(\"none\",inplace=True)\n"
   ]
  },
  {
   "cell_type": "code",
   "execution_count": 3,
   "metadata": {},
   "outputs": [
    {
     "data": {
      "text/html": [
       "<script>\n",
       "code_show=true; \n",
       "function code_toggle() {\n",
       " if (code_show){\n",
       " $('div.input').hide();\n",
       " } else {\n",
       " $('div.input').show();\n",
       " }\n",
       " code_show = !code_show\n",
       "} \n",
       "$( document ).ready(code_toggle);\n",
       "</script>\n",
       "<form action=\"javascript:code_toggle()\"><input type=\"submit\" value=\"Click here to toggle on/off the raw code.\"></form>"
      ],
      "text/plain": [
       "<IPython.core.display.HTML object>"
      ]
     },
     "execution_count": 3,
     "metadata": {},
     "output_type": "execute_result"
    }
   ],
   "source": [
    "from IPython.display import HTML\n",
    "\n",
    "HTML('''<script>\n",
    "code_show=true; \n",
    "function code_toggle() {\n",
    " if (code_show){\n",
    " $('div.input').hide();\n",
    " } else {\n",
    " $('div.input').show();\n",
    " }\n",
    " code_show = !code_show\n",
    "} \n",
    "$( document ).ready(code_toggle);\n",
    "</script>\n",
    "<form action=\"javascript:code_toggle()\"><input type=\"submit\" value=\"Click here to toggle on/off the raw code.\"></form>''')"
   ]
  },
  {
   "cell_type": "markdown",
   "metadata": {},
   "source": [
    "## NEW DATA REPRAPERING FROM JSON"
   ]
  },
  {
   "cell_type": "code",
   "execution_count": 8,
   "metadata": {},
   "outputs": [
    {
     "ename": "NameError",
     "evalue": "name 'IPython' is not defined",
     "output_type": "error",
     "traceback": [
      "\u001b[1;31m---------------------------------------------------------------------------\u001b[0m",
      "\u001b[1;31mNameError\u001b[0m                                 Traceback (most recent call last)",
      "\u001b[1;32m<ipython-input-8-a8e0951230af>\u001b[0m in \u001b[0;36m<module>\u001b[1;34m()\u001b[0m\n\u001b[0;32m      1\u001b[0m \u001b[1;32mimport\u001b[0m \u001b[0mjson\u001b[0m\u001b[1;33m\u001b[0m\u001b[0m\n\u001b[0;32m      2\u001b[0m \u001b[1;32mimport\u001b[0m \u001b[0mtqdm\u001b[0m\u001b[1;33m\u001b[0m\u001b[0m\n\u001b[1;32m----> 3\u001b[1;33m \u001b[0mIPython\u001b[0m\u001b[1;33m.\u001b[0m\u001b[0mload_extensions\u001b[0m\u001b[1;33m(\u001b[0m\u001b[1;34m'usability/hide_input_all'\u001b[0m\u001b[1;33m)\u001b[0m\u001b[1;33m\u001b[0m\u001b[0m\n\u001b[0m\u001b[0;32m      4\u001b[0m \u001b[1;33m\u001b[0m\u001b[0m\n\u001b[0;32m      5\u001b[0m \u001b[1;32mdef\u001b[0m \u001b[0mload\u001b[0m\u001b[1;33m(\u001b[0m\u001b[0mpath\u001b[0m\u001b[1;33m=\u001b[0m\u001b[1;34m'data/dota2_skill_train.jsonlines'\u001b[0m\u001b[1;33m)\u001b[0m\u001b[1;33m:\u001b[0m\u001b[1;33m\u001b[0m\u001b[0m\n",
      "\u001b[1;31mNameError\u001b[0m: name 'IPython' is not defined"
     ]
    }
   ],
   "source": [
    "import json\n",
    "import tqdm\n",
    "\n",
    "\n",
    "def load(path='data/dota2_skill_train.jsonlines'):\n",
    "    e=0\n",
    "    dataframe=[]\n",
    "    with open(path) as fin:\n",
    "        for line in tqdm.tqdm_notebook(fin,total = 100000):\n",
    "            record = json.loads(line)\n",
    "            rd={}\n",
    "            damage_targets={}\n",
    "            ability_upgrades={}\n",
    "            item_purchase_log={}\n",
    "            hero_roles={}\n",
    "            radiant_heroes={}\n",
    "            dire_heroes={}\n",
    "            \n",
    "\n",
    "            #damage parsing\n",
    "            for t in record[\"damage_targets\"]:\n",
    "                if(t in damage_targets):\n",
    "                    damage_targets[t.split('_')[2]]+=record[\"damage_targets\"][t]\n",
    "                else:\n",
    "                    damage_targets[t.split('_')[2]]=record[\"damage_targets\"][t]\n",
    "            #ability_upgrades        \n",
    "            for a in record[\"ability_upgrades\"]:\n",
    "                try:\n",
    "                    bs=json.loads(abil.loc[a,\"behavior\"].replace(\"'\",'\"').replace(\"None\",'\"None\"'))\n",
    "                    l=len(bs)\n",
    "                    for b in bs:\n",
    "                        if b in ability_upgrades:\n",
    "                            ability_upgrades[b]+=1/l\n",
    "                        else:\n",
    "                            ability_upgrades[b]=1/l\n",
    "                except:\n",
    "                    ability_upgrades[ abil.loc[a,\"behavior\"] ]=1\n",
    "            #item_purchase_log\n",
    "            for i in record[\"item_purchase_log\"]:\n",
    "                q=items.loc[i[\"item_id\"]]\n",
    "                if q[\"qual\"] in item_purchase_log:\n",
    "                    item_purchase_log[q[\"qual\"] ]+=1\n",
    "                    item_purchase_log[q[\"qual\"]+\"_cost\"]+=q[\"cost\"]\n",
    "\n",
    "                else:\n",
    "                    item_purchase_log[q[\"qual\"] ]=1\n",
    "                    item_purchase_log[q[\"qual\"]+\"_cost\"] = q[\"cost\"]\n",
    "            #hero info\n",
    "            hero=heroes.loc[record[\"hero_id\"]]\n",
    "            \n",
    "            \n",
    "            for rol in json.loads(hero[\"roles\"].replace(\"'\",'\"')):\n",
    "                hero_roles[rol]=1\n",
    "            #dire hero info\n",
    "            for he in record[\"dire_heroes\"]:\n",
    "                hero=heroes.loc[he]\n",
    "                for d in json.loads(hero[\"roles\"].replace(\"'\",'\"')):\n",
    "                    if d in dire_heroes:\n",
    "                        dire_heroes[d]+=1\n",
    "                    else:\n",
    "                        dire_heroes[d]=1\n",
    "            #dire radian info\n",
    "            for he in record[\"radiant_heroes\"]:\n",
    "                hero=heroes.loc[he]\n",
    "                for d in json.loads(hero[\"roles\"].replace(\"'\",'\"')):\n",
    "                    if d in radiant_heroes:\n",
    "                        radiant_heroes[d]+=1\n",
    "                    else:\n",
    "                        radiant_heroes[d]=1\n",
    "                        \n",
    "                        \n",
    "            #SBORKA \n",
    "            for i in damage_targets:\n",
    "                rd[\"damage_\"+i]=damage_targets[i]\n",
    "            for i in ability_upgrades:\n",
    "                rd[\"abil_\"+i]=ability_upgrades[i]\n",
    "            for i in item_purchase_log:\n",
    "                rd[\"itm_\"+str(i)]=item_purchase_log[i]\n",
    "            for i in hero_roles:\n",
    "                rd[\"heroes_\"+i]=hero_roles[i]\n",
    "            #other heroes\n",
    "            for i in dire_heroes:\n",
    "                rd[\"dire_heroes\"+i]=dire_heroes[i]\n",
    "            for i in radiant_heroes:\n",
    "                rd[\"radiant_heroes\"+i]=radiant_heroes[i]\n",
    "            #all other parametr\n",
    "            for r in record:\n",
    "                if isinstance(record[r],int) or isinstance(record[r],float) or isinstance(record[r],str):\n",
    "                    rd[r]=record[r]\n",
    "            for h in heroes:\n",
    "                if isinstance(heroes[h],int) or isinstance(heroes[h],float):\n",
    "                    rd[h]=heroes[h]\n",
    "\n",
    "            \n",
    "            \n",
    "                \n",
    "            dataframe.append(rd)   \n",
    "            e+=1\n",
    "    return dataframe\n"
   ]
  },
  {
   "cell_type": "code",
   "execution_count": 11,
   "metadata": {},
   "outputs": [
    {
     "ename": "AttributeError",
     "evalue": "module 'IPython' has no attribute 'load_extensions'",
     "output_type": "error",
     "traceback": [
      "\u001b[1;31m---------------------------------------------------------------------------\u001b[0m",
      "\u001b[1;31mAttributeError\u001b[0m                            Traceback (most recent call last)",
      "\u001b[1;32m<ipython-input-11-7ffdbd8875cd>\u001b[0m in \u001b[0;36m<module>\u001b[1;34m()\u001b[0m\n\u001b[1;32m----> 1\u001b[1;33m \u001b[0mIPython\u001b[0m\u001b[1;33m.\u001b[0m\u001b[0mload_extensions\u001b[0m\u001b[1;33m(\u001b[0m\u001b[1;34m'pikle/show.js'\u001b[0m\u001b[1;33m)\u001b[0m\u001b[1;33m\u001b[0m\u001b[0m\n\u001b[0m",
      "\u001b[1;31mAttributeError\u001b[0m: module 'IPython' has no attribute 'load_extensions'"
     ]
    }
   ],
   "source": [
    "IPython.load_extensions('pikle/show.js')"
   ]
  },
  {
   "cell_type": "code",
   "execution_count": null,
   "metadata": {},
   "outputs": [],
   "source": [
    "df=load()"
   ]
  },
  {
   "cell_type": "code",
   "execution_count": null,
   "metadata": {},
   "outputs": [],
   "source": [
    "df_train=pd.DataFrame.from_dict(df).set_index(\"id\").fillna(0)\n",
    "df_train.to_csv('data/new_df_train.csv')\n",
    "df_train.head()"
   ]
  },
  {
   "cell_type": "code",
   "execution_count": null,
   "metadata": {},
   "outputs": [],
   "source": [
    "abil.head()"
   ]
  },
  {
   "cell_type": "code",
   "execution_count": null,
   "metadata": {},
   "outputs": [],
   "source": [
    "df_train=pd.DataFrame()\n",
    "for r in record:\n",
    "    df_train[r]=0"
   ]
  },
  {
   "cell_type": "code",
   "execution_count": null,
   "metadata": {},
   "outputs": [],
   "source": [
    "df_train"
   ]
  },
  {
   "cell_type": "markdown",
   "metadata": {},
   "source": [
    "**heroes data preporation**"
   ]
  },
  {
   "cell_type": "raw",
   "metadata": {},
   "source": [
    "heroes = pd.read_csv('data/dota2_heroes.csv',index_col='hero_id')\n",
    "hero=heroes.copy()\n",
    "heroes=heroes.drop(['primary_attr','base_mana_regen'],axis=1)\n",
    "heroes.head()"
   ]
  },
  {
   "cell_type": "raw",
   "metadata": {},
   "source": [
    "from sklearn.preprocessing import LabelEncoder\n",
    "columns= heroes.columns\n",
    "for c in columns:\n",
    "    if(type(heroes['attack_type'][1])==type(\"str\")):\n",
    "        if(len(set(heroes[c])))<20:\n",
    "            heroes[c]=LabelEncoder().fit_transform(heroes[c])\n",
    "            print(\"Sucsess encoding\",c)\n",
    "        else:\n",
    "            print(\"Too mach labels\",c)\n",
    "            heroes=heroes.drop([c],axis=1)\n",
    "heroes=heroes.fillna(0)\n",
    "\n",
    "heroes.head()"
   ]
  },
  {
   "cell_type": "raw",
   "metadata": {},
   "source": [
    "%pylab inline\n",
    "heroes=heroes.fillna(0)\n",
    "st=[]\n",
    "for c in heroes.columns:\n",
    "#     print(heroes[c].mean(),c)\n",
    "    st.append(heroes[c].mean())\n",
    "    \n",
    "\n",
    "bar(heroes.columns,st)\n",
    "xlabel('columns')\n",
    "ylabel('mean')\n",
    "gcf().autofmt_xdate(0,45)\n",
    "grid(True)\n",
    "show()\n"
   ]
  },
  {
   "cell_type": "markdown",
   "metadata": {},
   "source": [
    "heroes.head()"
   ]
  },
  {
   "cell_type": "markdown",
   "metadata": {},
   "source": [
    "**Items category+ data**"
   ]
  },
  {
   "cell_type": "raw",
   "metadata": {},
   "source": [
    "items=pd.read_csv(\"data/full_items.csv\",index_col=\"item_id\")\n",
    "items=items.drop_duplicates(subset='dname')\n",
    "items=items.fillna(0)"
   ]
  },
  {
   "cell_type": "raw",
   "metadata": {},
   "source": [
    "def addcol(dt):\n",
    "    dt[\"item_UPS\"]=0\n",
    "    dt[\"item_kills\"]=0\n",
    "    dt[\"item_diers\"]=0\n",
    "    dt[\"item_assist\"]=0\n",
    "    return dt\n",
    "df_test=addcol(df_test)\n",
    "df_train=addcol(df_train)"
   ]
  },
  {
   "cell_type": "raw",
   "metadata": {},
   "source": [
    "import json\n",
    "import tqdm\n",
    "e=0\n",
    "with open('data/dota2_skill_train.jsonlines',total = 100000) as fin:\n",
    "    for line in tqdm.tqdm_notebook(fin):\n",
    "        record = json.loads(line)\n",
    "        for itm in record['item_purchase_log']:\n",
    "            try:\n",
    "                items.UPS[itm[\"item_id\"]]\n",
    "            except:\n",
    "                e+=1\n",
    "                continue\n",
    "            df_train.loc[record['id'], \"item_UPS\"] += items.UPS[itm[\"item_id\"]]\n",
    "            df_train.loc[record['id'], \"item_kills\"] += items.kills[itm[\"item_id\"]]            \n",
    "            df_train.loc[record['id'], \"item_diers\"] += items.diers[itm[\"item_id\"]]            \n",
    "            df_train.loc[record['id'], \"item_assist\"] += items.assist[itm[\"item_id\"]]  \n",
    "            \n",
    "print(\"Errors:\",100000/e)\n",
    "e=0\n",
    "            \n",
    "            \n",
    "with open('data/dota2_skill_test.jsonlines') as fin:\n",
    "    for line in tqdm.tqdm_notebook(fin,total = 40000):\n",
    "        record = json.loads(line)\n",
    "        for itm in record['item_purchase_log']:\n",
    "            try:\n",
    "                items.UPS[itm[\"item_id\"]]\n",
    "            except:\n",
    "                e+=1\n",
    "                continue\n",
    "            df_test.loc[record['id'], \"item_UPS\"] += items.UPS[itm[\"item_id\"]]\n",
    "            df_test.loc[record['id'], \"item_kills\"] += items.kills[itm[\"item_id\"]]            \n",
    "            df_test.loc[record['id'], \"item_diers\"] += items.diers[itm[\"item_id\"]]            \n",
    "            df_test.loc[record['id'], \"item_assist\"] += items.assist[itm[\"item_id\"]]\n",
    "            \n",
    "print(\"Errors:\",40000/e)\n",
    "e=0   \n",
    "df_test.to_csv('data/test_full_items.csv')\n",
    "df_train.to_csv('data/train_full_items.csv')"
   ]
  },
  {
   "cell_type": "markdown",
   "metadata": {},
   "source": [
    "**Data transform**"
   ]
  },
  {
   "cell_type": "raw",
   "metadata": {},
   "source": [
    "from sklearn.preprocessing import Normalizer\n",
    "from sklearn.preprocessing import StandardScaler,PolynomialFeatures\n",
    "\n",
    "from sklearn.feature_selection import f_regression\n",
    "from sklearn.feature_selection import SelectKBest\n",
    "\n",
    "def preproc(df):\n",
    "    df['player_team'] = df['player_team'].map({'dire': 0, 'radiant': 1})\n",
    "    df['winner_team'] = df['winner_team'].map({'dire': 0, 'radiant': 1})\n",
    "    df=df.drop([\"hero_id\"],axis=1)\n",
    "    df=df.fillna(0)\n",
    "    return df\n",
    "\n",
    "\n",
    "    \n",
    "def transform(X):\n",
    "    X=preproc(X)\n",
    "#     select = SelectKBest(f_regression, k=100)\n",
    "    poly = PolynomialFeatures(2)\n",
    "    transformer =StandardScaler().fit(X) \n",
    "    X=transformer.transform(X)\n",
    "#     X=poly.fit_transform(X)\n",
    "#     Xt=select.fit_transform(Xt,Y)\n",
    "    X=pd.DataFrame(data=X)\n",
    "    return X\n",
    "\n",
    "df_train2=transform(df_train.copy())\n",
    "df_test2=transform(df_test.copy())\n",
    "df_train2[0]=df_train.skilled.values\n"
   ]
  },
  {
   "cell_type": "raw",
   "metadata": {},
   "source": [
    "\n",
    "df_train2.to_csv(\"data/ml_train\")\n",
    "df_test2.to_csv(\"data/ml_test\")"
   ]
  },
  {
   "cell_type": "raw",
   "metadata": {},
   "source": [
    "# X_new = select.fit_transform(X, Y)\n",
    "X_new = select.fit(X, Y)\n",
    "fitch=X_new.get_support()\n",
    "Xf=X_new.transform(X)\n",
    "col=[]\n",
    "\n",
    "for i,c in enumerate(X.columns):\n",
    "    if fitch[i]:\n",
    "        col.append(c)\n",
    "# X=X[col]"
   ]
  },
  {
   "cell_type": "raw",
   "metadata": {},
   "source": [
    "df_test.to_csv('data/test_clear_items_heros_data.csv')\n",
    "df_train.to_csv('data/train_clear_items_heros_data.csv')"
   ]
  },
  {
   "cell_type": "markdown",
   "metadata": {},
   "source": [
    "**Team mean heroes parametrs**"
   ]
  },
  {
   "cell_type": "raw",
   "metadata": {},
   "source": [
    "import json\n",
    "import tqdm\n",
    "mean_heroes=heroes.loc[[1]]\n",
    "n=10\n",
    "with open('data/dota2_skill_train.jsonlines') as fin:\n",
    "    for line in  tqdm.tqdm_notebook(fin):\n",
    "        record = json.loads(line)\n",
    "        mean_heroes.loc[record['id']]=heroes.loc[record['{}_heroes'.format(record['player_team'])]].mean()\n",
    "\n",
    "mean_heroes_train=mean_heroes.copy()\n",
    "mean_heroes_train.columns=[c+\"_tmean\" for c in mean_heroes_train.columns]\n",
    "df_train=df_train.join(mean_heroes_train, on=\"hero_id\")\n",
    "mean_heroes_train.head()"
   ]
  },
  {
   "cell_type": "raw",
   "metadata": {},
   "source": [
    "df_train.to_csv('data/train_clear_items_heros_tmean_data.csv')"
   ]
  },
  {
   "cell_type": "markdown",
   "metadata": {},
   "source": [
    "**Damage targets params** "
   ]
  },
  {
   "cell_type": "raw",
   "metadata": {},
   "source": [
    "dt=pd.DataFrame()\n",
    "damage_targets=pd.DataFrame()\n",
    "dt=dt.append([{'damage_invoker':0}])\n",
    "for l in label:\n",
    "    dt[f\"damage_{l}\"]=0\n",
    "dt[\"id\"]=0\n",
    "dt.set_index(\"id\")"
   ]
  },
  {
   "cell_type": "raw",
   "metadata": {},
   "source": [
    "dt=pd.DataFrame()\n",
    "dt=dt.append([{'damage_invoker':0}])\n",
    "for l in label:\n",
    "    dt[f\"damage_{l}\"]=0\n",
    "\n",
    "    \n",
    "with open('data/dota2_skill_test.jsonlines') as fin:\n",
    "    for line in tqdm.tqdm_notebook(fin):\n",
    "        record = json.loads(line)\n",
    "        tgts=record['damage_targets']\n",
    "        dt2=dt.copy()\n",
    "        \n",
    "        for r in tgts:\n",
    "            try:\n",
    "                dt2[\"damage_{}\".format(r.split('_')[2]) ]+=tgts[r]\n",
    "            except:\n",
    "                print(\"Error\",r)\n",
    "        dt2[\"id\"]=record['id']\n",
    "        \n",
    "        damage_targets=damage_targets.append(dt2)\n",
    "\n",
    "damage_targets=damage_targets.set_index(\"id\")\n",
    "df_test=pd.concat([df_test,damage_targets],axis=1)\n",
    "\n",
    "# damage_targets=damage_targets.drop_duplicates() \n",
    "df_test.to_csv('data/test_clear_items_heros_demage_data.csv')"
   ]
  },
  {
   "cell_type": "markdown",
   "metadata": {},
   "source": [
    "<h3 style=\"color:red\">Final items cost</h3>"
   ]
  },
  {
   "cell_type": "raw",
   "metadata": {},
   "source": [
    "items = pd.read_csv('data/dota2_items.csv',index_col=\"item_id\")\n",
    "items.loc[0]=['none','none',0,'none']\n",
    "df_train['sum_items_cost']=0"
   ]
  },
  {
   "cell_type": "raw",
   "metadata": {},
   "source": [
    "import json\n",
    "import tqdm\n",
    "\n",
    "with open('data/dota2_skill_train.jsonlines') as fin:\n",
    "    for line in tqdm.tqdm_notebook(fin):\n",
    "        record = json.loads(line)\n",
    "        s=0\n",
    "        for it in record['item_purchase_log']:    \n",
    "            it_id=i['item_id']\n",
    "            s+=(items.loc[it_id]['cost'])\n",
    "        df_train.loc[record['id'],'sum_items_cost']+=s\n",
    "\n",
    "# with open('data/dota2_skill_test.jsonlines') as fin:\n",
    "#     for line in tqdm.tqdm_notebook(fin):\n",
    "#         record = json.loads(line)\n",
    "#         for itm in record['item_purchase_log']:\n",
    "#             df_test.loc[record['id'], f'item_{items.qual[itm[\"item_id\"]]}_count'] += 1\n",
    "df_train.to_csv('data/train_clear_items_heros_demage_ITsum_data.csv')\n",
    "df_train.head()"
   ]
  },
  {
   "cell_type": "markdown",
   "metadata": {},
   "source": [
    "**FULL ITEMS FROM dota.com**"
   ]
  },
  {
   "cell_type": "raw",
   "metadata": {},
   "source": [
    "items = pd.read_csv('data/dota2_items.csv')\n",
    "full_items = pd.read_csv('data/full_items.csv',index_col=[0])\n",
    "\n",
    "result = pd.merge(items, full_items,how=\"left\" ,left_on='dname', right_on='name')\n",
    "result=result.drop([\"notes\",\"name\"],axis=1)\n",
    "result=result.set_index(\"item_id\")\n",
    "\n",
    "result.to_csv('data/full_items.csv')\n",
    "result.head()"
   ]
  },
  {
   "cell_type": "markdown",
   "metadata": {},
   "source": [
    "**NEW REGRESSIND PARAMS**"
   ]
  },
  {
   "cell_type": "code",
   "execution_count": null,
   "metadata": {},
   "outputs": [],
   "source": [
    "np.array(df_train.columns)"
   ]
  },
  {
   "cell_type": "markdown",
   "metadata": {},
   "source": [
    "## _Test_"
   ]
  },
  {
   "cell_type": "code",
   "execution_count": null,
   "metadata": {},
   "outputs": [],
   "source": [
    "maches=[]"
   ]
  },
  {
   "cell_type": "code",
   "execution_count": null,
   "metadata": {},
   "outputs": [],
   "source": [
    "import requests\n",
    "import tqdm\n",
    "key=\"F8409D2B7A7D3E13A59761D534ECA044\"\n",
    "conf={\n",
    "    \"key\":key,\n",
    "    \"start_at_match_id\":5634189078,\n",
    "    \"skill\":3\n",
    "}"
   ]
  },
  {
   "cell_type": "code",
   "execution_count": null,
   "metadata": {},
   "outputs": [],
   "source": [
    "le=0\n",
    "l2=0\n",
    "was=[]\n",
    "while(le<20000 and l2<20000):\n",
    "    r = requests.get(url=\"https://api.steampowered.com/IDOTA2Match_570/GetMatchHistory/V001/\",params=conf)\n",
    "    for i in r.json()[\"result\"][\"matches\"]:\n",
    "        maches.append(i[\"match_id\"])\n",
    "    if(len(set(maches))==l2):\n",
    "        print(maches[-1]-1)\n",
    "        conf[\"start_at_match_id\"]=5634189078\n",
    "        conf2={\n",
    "            \"key\":key,\n",
    "            \"match_id\":0,\n",
    "        }\n",
    "        with open(\"skill3.jsonlines\",\"a\") as fout:\n",
    "            for m in tqdm.tqdm_notebook(maches):\n",
    "                if(m in was):\n",
    "                    break\n",
    "                conf[\"match_id\"]=m\n",
    "                r = requests.get(url=\"https://api.steampowered.com/IDOTA2Match_570/GetMatchDetails/V001/\",params=conf2)\n",
    "                print(r.json(),file=fout)\n",
    "        le+=len(maches)\n",
    "        l2=0\n",
    "        was=was+maches\n",
    "        maches=[]\n",
    "        time.sleep(5)\n",
    "        continue\n",
    "        \n",
    "    conf[\"start_at_match_id\"]=maches[-1]-1\n",
    "    l2=len(set(maches))\n",
    " "
   ]
  },
  {
   "cell_type": "code",
   "execution_count": null,
   "metadata": {},
   "outputs": [],
   "source": [
    "len(set(maches) )"
   ]
  },
  {
   "cell_type": "code",
   "execution_count": null,
   "metadata": {},
   "outputs": [],
   "source": [
    "m2=maches"
   ]
  },
  {
   "cell_type": "code",
   "execution_count": null,
   "metadata": {},
   "outputs": [],
   "source": [
    "conf={\n",
    "    \"key\":key,\n",
    "    \"match_id\":0,\n",
    "}\n",
    "with open(\"skill3.jsonlines\",\"a\") as fout:\n",
    "    for m in tqdm.tqdm_notebook(maches):\n",
    "        conf[\"match_id\"]=m\n",
    "        r = requests.get(url=\"https://api.steampowered.com/IDOTA2Match_570/GetMatchDetails/V001/\",params=conf)\n",
    "        print(r.json(),file=fout)\n"
   ]
  },
  {
   "cell_type": "code",
   "execution_count": null,
   "metadata": {},
   "outputs": [],
   "source": [
    "fout.close()"
   ]
  },
  {
   "cell_type": "code",
   "execution_count": null,
   "metadata": {},
   "outputs": [],
   "source": [
    "import json\n",
    "import tqdm\n",
    "# df_train[\"demage_len\"]=0\n",
    "# with open('data/dota2_skill_train.jsonlines',total=100000) as fin:\n",
    "#     for line in tqdm.tqdm_notebook(fin):\n",
    "#         record = json.loads(line)\n",
    "#         df_train.loc[record['id'],'demage_len']=len(record[\"damage_targets\"])\n",
    "n=0\n",
    "df_test[\"demage_len\"]=0\n",
    "with open('data/dota2_skill_test.jsonlines') as fin:\n",
    "    for line in tqdm.tqdm_notebook(fin,total=40000):\n",
    "        record = json.loads(line)\n",
    "        print(len(set([r for r in record[\"damage_targets\"]]))-len([r for r in record[\"damage_targets\"]]))\n",
    "        n+=1\n",
    "        if(n>15):\n",
    "            break\n",
    "#         df_test.loc[record['id'],'demage_len']=len(record[\"damage_targets\"])"
   ]
  },
  {
   "cell_type": "code",
   "execution_count": null,
   "metadata": {},
   "outputs": [],
   "source": [
    "record[\"denies\"]"
   ]
  },
  {
   "cell_type": "code",
   "execution_count": null,
   "metadata": {},
   "outputs": [],
   "source": [
    "[r for r in record]"
   ]
  },
  {
   "cell_type": "code",
   "execution_count": null,
   "metadata": {},
   "outputs": [],
   "source": [
    "df_train.to_csv('data/train_clear_items_heros_demage_dl_data.csv')\n",
    "df_test.to_csv('data/test_clear_items_heros_demage_dl_data.csv')"
   ]
  },
  {
   "cell_type": "code",
   "execution_count": null,
   "metadata": {},
   "outputs": [],
   "source": [
    "items = pd.read_csv('data/dota2_items.csv',index_col=\"item_id\")\n",
    "abil = pd.read_csv('data/dota2_abilities.csv',index_col=\"ability_id\")\n",
    "her = pd.read_csv('data/dota2_heroes.csv',index_col=\"hero_id\")"
   ]
  },
  {
   "cell_type": "code",
   "execution_count": null,
   "metadata": {},
   "outputs": [],
   "source": [
    "her.head()"
   ]
  },
  {
   "cell_type": "code",
   "execution_count": null,
   "metadata": {},
   "outputs": [],
   "source": [
    "for r in record:\n",
    "    if not isinstance(record[r],int) and not isinstance(record[r],float) and not isinstance(record[r],str):\n",
    "        print(r)"
   ]
  },
  {
   "cell_type": "code",
   "execution_count": null,
   "metadata": {},
   "outputs": [],
   "source": [
    "record[\"series\"][\"player_gold\"][-1],record[\"gold_spent\"]"
   ]
  },
  {
   "cell_type": "code",
   "execution_count": null,
   "metadata": {},
   "outputs": [],
   "source": [
    "record[\"gold_per_min\"]*record[\"duration\"]/60"
   ]
  },
  {
   "cell_type": "code",
   "execution_count": null,
   "metadata": {},
   "outputs": [],
   "source": [
    "for r in record:\n",
    "        print(r)"
   ]
  },
  {
   "cell_type": "markdown",
   "metadata": {},
   "source": [
    "**Mean speed of level UP**"
   ]
  },
  {
   "cell_type": "raw",
   "metadata": {},
   "source": [
    "import json\n",
    "from tqdm import tqdm_notebook\n",
    "meltaT=[]\n",
    "\n",
    "n=0\n",
    "L=7\n",
    "with open('data/dota2_skill_test.jsonlines') as fin:\n",
    "    for line in tqdm_notebook(fin,total=99871):\n",
    "        record = json.loads(line)\n",
    "        \n",
    "        m=record[\"level_up_times\"]\n",
    "        mt=[]\n",
    "        for i in range(len(m)-2):\n",
    "            mt.append(-m[i]+m[i+1])\n",
    "        \n",
    "        if(len(mt)<1):\n",
    "            mt=[[record[\"id\"],0,0,0]]\n",
    "        mt=np.array(mt)\n",
    "        med=np.median(mt)        \n",
    "        meltaT.append([record[\"id\"], (mt).max()/med, (mt).min()/med, med])\n",
    "        \n",
    "\n",
    "dval=pd.DataFrame(data=meltaT,columns=[\"user_id\",\"dlev_man\",\"dlev_min\",\"dlev_med\"]) \n",
    "dval=dval.set_index(\"user_id\")\n",
    "df_test=df_test.join(dval)\n",
    "\n",
    "df_test.to_csv(\"data/test_mean_levels.csv\")"
   ]
  },
  {
   "cell_type": "code",
   "execution_count": null,
   "metadata": {},
   "outputs": [],
   "source": [
    "n=8\n",
    "with open('data/dota2_skill_train.jsonlines') as fin:\n",
    "    for line in tqdm_notebook(fin,total=99871):\n",
    "        record = json.loads(line)\n",
    "        n-=1\n",
    "        if(n<1):\n",
    "            break"
   ]
  },
  {
   "cell_type": "code",
   "execution_count": null,
   "metadata": {},
   "outputs": [],
   "source": [
    "import matplotlib.pyplot as plt\n",
    "levels=[i for i in range(len(record[\"ability_upgrades\"]))]\n",
    "times=[ t[\"time\"] for t in record[\"ability_upgrades\"] ]\n",
    "plot(levels,times)\n",
    "# plot(record['series']['time'],record['series']['dire_gold'])\n",
    "# plot(record['series']['time'],record['series']['radiant_gold'])\n",
    "\n",
    "\n",
    "xlabel('n items')\n",
    "ylabel('time')\n",
    "gcf().autofmt_xdate(0,45)\n",
    "grid(True)\n",
    "show()\n",
    "print(record[\"winner_team\"],record[\"skilled\"])"
   ]
  },
  {
   "cell_type": "code",
   "execution_count": null,
   "metadata": {},
   "outputs": [],
   "source": [
    "for r in record:\n",
    "    print(r)"
   ]
  },
  {
   "cell_type": "code",
   "execution_count": null,
   "metadata": {},
   "outputs": [],
   "source": [
    "df_hero[\"attack_type\"] = LabelEncoder().fit_transform(df_hero[\"attack_type\"])\n",
    "df_hero[\"primary_attr\"] = LabelEncoder().fit_transform(df_hero[\"primary_attr\"])"
   ]
  },
  {
   "cell_type": "code",
   "execution_count": null,
   "metadata": {},
   "outputs": [],
   "source": [
    "df_hero.head()"
   ]
  },
  {
   "cell_type": "code",
   "execution_count": null,
   "metadata": {},
   "outputs": [],
   "source": [
    "df_train=df_train.join(df_hero, lsuffix='hero_id', rsuffix='hero_id')"
   ]
  },
  {
   "cell_type": "code",
   "execution_count": null,
   "metadata": {},
   "outputs": [],
   "source": [
    "df_train['hero_id'].head()"
   ]
  },
  {
   "cell_type": "markdown",
   "metadata": {},
   "source": [
    "**Data encoding**"
   ]
  },
  {
   "cell_type": "code",
   "execution_count": null,
   "metadata": {},
   "outputs": [],
   "source": [
    "df_train = pd.read_csv('data/train_clear_items_heros_demage_data.csv', index_col='id')\n",
    "df_test = pd.read_csv('data/test_clear_items_heros_demage_data.csv', index_col='id')"
   ]
  },
  {
   "cell_type": "code",
   "execution_count": null,
   "metadata": {},
   "outputs": [],
   "source": [
    "def drop_flud(df):\n",
    "    df=df.drop([\"base_health\",\"base_mana\",\"first_blood_claimed\",\"pre_game_duration\",\"base_mr\"])\n",
    "    "
   ]
  },
  {
   "cell_type": "code",
   "execution_count": null,
   "metadata": {},
   "outputs": [],
   "source": [
    "for c in df_train.columns:\n",
    "    print(c)"
   ]
  },
  {
   "cell_type": "code",
   "execution_count": null,
   "metadata": {},
   "outputs": [],
   "source": [
    "for c in df_train.columns:\n",
    "    l=len(set(df_train[c]))\n",
    "    if l<25 and l>2 and df_train[c].dtypes==\"int64\":\n",
    "        print(c)"
   ]
  },
  {
   "cell_type": "code",
   "execution_count": null,
   "metadata": {},
   "outputs": [],
   "source": [
    "df_train[\"camps_stacked\"].head(10)"
   ]
  },
  {
   "cell_type": "code",
   "execution_count": null,
   "metadata": {},
   "outputs": [],
   "source": [
    "from sklearn.preprocessing import LabelEncoder\n",
    "lable_enc_list=['player_team','winner_team']\n",
    "for lb in lable_enc_list:\n",
    "    df_train[lb] = LabelEncoder().fit_transform(df_train[lb])\n",
    "\n",
    "\n",
    "from sklearn.preprocessing import OneHotEncoder\n",
    "enc = OneHotEncoder(handle_unknown='ignore')\n",
    "lable_ohe_list=['player_team',\"attack_rate\"]\n",
    "for lb in lable_ohe_list:\n",
    "    f=enc.fit(df_train[lb].values.reshape(-1,1))\n",
    "    df_train[lb]=enc.transform(df_train[lb].values.reshape(-1,1)).toarray()"
   ]
  },
  {
   "cell_type": "code",
   "execution_count": null,
   "metadata": {},
   "outputs": [],
   "source": [
    "df_train.head()"
   ]
  }
 ],
 "metadata": {
  "kernelspec": {
   "display_name": "Python 3",
   "language": "python",
   "name": "python3"
  },
  "language_info": {
   "codemirror_mode": {
    "name": "ipython",
    "version": 3
   },
   "file_extension": ".py",
   "mimetype": "text/x-python",
   "name": "python",
   "nbconvert_exporter": "python",
   "pygments_lexer": "ipython3",
   "version": "3.7.0"
  }
 },
 "nbformat": 4,
 "nbformat_minor": 2
}
