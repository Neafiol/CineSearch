{
 "cells": [
  {
   "cell_type": "code",
   "execution_count": 126,
   "metadata": {},
   "outputs": [],
   "source": [
    "import requests\n",
    "from bs4 import BeautifulSoup\n",
    "import re\n",
    "import json\n",
    "from tqdm import tqdm_notebook as tqdm\n",
    "import psycopg2  \n",
    "from peewee import *\n",
    "from playhouse.postgres_ext import PostgresqlExtDatabase, JSONField, ArrayField\n",
    "from playhouse.shortcuts import model_to_dict\n"
   ]
  },
  {
   "cell_type": "code",
   "execution_count": 31,
   "metadata": {},
   "outputs": [],
   "source": [
    "db.rollback()"
   ]
  },
  {
   "cell_type": "code",
   "execution_count": 196,
   "metadata": {},
   "outputs": [],
   "source": [
    "bdname='sinesearch_db'\n",
    "bduser = 'postgres'\n",
    "bdpassword = 'nef441'\n",
    "bdhost = '51.79.69.179'\n",
    "bdport = 5432\n",
    "\n",
    "db = PostgresqlExtDatabase(bdname, user=bduser, password=bdpassword,\n",
    "                           host=bdhost, port=bdport)"
   ]
  },
  {
   "cell_type": "code",
   "execution_count": 197,
   "metadata": {},
   "outputs": [],
   "source": [
    "from peewee import *\n",
    "from playhouse.postgres_ext import PostgresqlExtDatabase, JSONField, ArrayField\n",
    "        \n",
    "class Users(Model):\n",
    "    user_id=IntegerField(index=True,null=False)\n",
    "    age=IntegerField(default=20)\n",
    "    sex=IntegerField(default=0)\n",
    "\n",
    "    ganres=ArrayField(FloatField,default=[])\n",
    "    group=IntegerField(default=-1)\n",
    "    mark_wight=FloatField(default=0)\n",
    "    just_marked = IntegerField(default=1)\n",
    "\n",
    "    liked=ArrayField(IntegerField,default=[])\n",
    "    viewed=ArrayField(IntegerField,default=[])\n",
    "    disliked=ArrayField(IntegerField,default=[])\n",
    "    \n",
    "    disliked_vector=ArrayField(FloatField,default=[])\n",
    "    liked_vector=ArrayField(FloatField,default=[])\n",
    "\n",
    "    predict_films=ArrayField(IntegerField,default=[])\n",
    "\n",
    "    class Meta:\n",
    "        database = db\n",
    "        db_table='Users_fp'\n",
    "\n",
    "class Films(Model):\n",
    "    film_id=IntegerField(unique=True,index=True)\n",
    "    stars = FloatField(default=0)\n",
    "    level=IntegerField(default=0,null=True)\n",
    "    year=IntegerField(default=2000)\n",
    "    vector=ArrayField(FloatField,default=[])\n",
    "\n",
    "    ganres=ArrayField(FloatField,default=[])\n",
    "    meanage=FloatField(default=20)\n",
    "    sex=FloatField(default=0.5)\n",
    "\n",
    "    likes=IntegerField(default=10)\n",
    "    dislikes=IntegerField(default=10)\n",
    "    shit=IntegerField(default=0)\n",
    "    marks=IntegerField(default=0)\n",
    "\n",
    "    errors=IntegerField(default=0)\n",
    "    opening=IntegerField(default=0)\n",
    "    count_triler=IntegerField(default=0)\n",
    "\n",
    "    class Meta:\n",
    "        database = db\n",
    "        db_table='Films_fp'"
   ]
  },
  {
   "cell_type": "code",
   "execution_count": 47,
   "metadata": {},
   "outputs": [],
   "source": [
    "count=Users.select().count()"
   ]
  },
  {
   "cell_type": "code",
   "execution_count": 48,
   "metadata": {},
   "outputs": [
    {
     "data": {
      "application/vnd.jupyter.widget-view+json": {
       "model_id": "6ba27405c2c44c929b439920258aa42b",
       "version_major": 2,
       "version_minor": 0
      },
      "text/plain": [
       "HBox(children=(IntProgress(value=0, max=2), HTML(value='')))"
      ]
     },
     "metadata": {},
     "output_type": "display_data"
    }
   ],
   "source": [
    "from playhouse.shortcuts import model_to_dict\n",
    "users = []\n",
    "for i in tqdm(range(0,count,100)):\n",
    "    usrs=Users.select().offset(i).limit(100).execute()\n",
    "    for u in usrs:\n",
    "        users.append(model_to_dict(u))"
   ]
  },
  {
   "cell_type": "code",
   "execution_count": 129,
   "metadata": {},
   "outputs": [],
   "source": [
    "def user_preparation(data):\n",
    "    data=data.copy()\n",
    "    \n",
    "    del data[\"group\"]\n",
    "    del data[\"just_marked\"]\n",
    "    del data[\"predict_films\"]\n",
    "    del data[\"user_id\"]\n",
    "    del data[\"id\"]\n",
    "\n",
    "    \n",
    "    msex=0\n",
    "    mage=0\n",
    "    myers=0\n",
    "    liked_films=Films.select().where(Films.film_id.in_(data[\"liked\"]+data[\"viewed\"])).execute()\n",
    "    for f in liked_films:\n",
    "        msex+=f.sex\n",
    "        mage+=f.meanage\n",
    "        myers+=2019 - f.year\n",
    "        \n",
    "    data[\"myers\"]=myers/(len(liked_films)+1)\n",
    "    data[\"mage\"]=mage/(len(liked_films)+1)\n",
    "    data[\"msex\"]=msex/(len(liked_films)+1)\n",
    "    \n",
    "\n",
    "\n",
    "    del data[\"viewed\"]\n",
    "    del data[\"disliked\"]\n",
    "    del data[\"liked\"]\n",
    "    \n",
    "    vb = data[\"ganres\"]+data[\"liked_vector\"]\n",
    "    del data[\"ganres\"]\n",
    "    del data[\"liked_vector\"]\n",
    "    del data[\"disliked_vector\"]\n",
    "    \n",
    "    res = list(OrderedDict(data).values())+vb    \n",
    "    return res\n",
    "        "
   ]
  },
  {
   "cell_type": "code",
   "execution_count": 130,
   "metadata": {},
   "outputs": [
    {
     "data": {
      "application/vnd.jupyter.widget-view+json": {
       "model_id": "242b042260644e31a26ed758a444a5d2",
       "version_major": 2,
       "version_minor": 0
      },
      "text/plain": [
       "HBox(children=(IntProgress(value=0, max=117), HTML(value='')))"
      ]
     },
     "metadata": {},
     "output_type": "display_data"
    }
   ],
   "source": [
    "dataset=[]\n",
    "for u in tqdm(users):\n",
    "    dataset.append(user_preparation(u))    "
   ]
  },
  {
   "cell_type": "code",
   "execution_count": 131,
   "metadata": {},
   "outputs": [],
   "source": [
    "with open(\"users_dataset\",\"w\") as f:\n",
    "    json.dump(dataset,f)"
   ]
  },
  {
   "cell_type": "code",
   "execution_count": 133,
   "metadata": {},
   "outputs": [],
   "source": [
    "from sklearn.preprocessing import normalize\n",
    "dataset=normalize(dataset)"
   ]
  },
  {
   "cell_type": "code",
   "execution_count": 135,
   "metadata": {},
   "outputs": [],
   "source": [
    "import pandas as pd\n",
    "import numpy as np\n",
    "df_train=dataset"
   ]
  },
  {
   "cell_type": "code",
   "execution_count": 136,
   "metadata": {},
   "outputs": [
    {
     "name": "stdout",
     "output_type": "stream",
     "text": [
      "[2 8 4 2 2 4 2 0 0 0 8 6 2 2 8 2 6 5 5 0 8 8 4 0 9 2 6 6 0 3 3 0 3 0 2 0 5\n",
      " 5 5 1 2 5 2 5 5 0 4 2 5 5 5 4 7 7 2 7 2 0 4 0 5 4 9 9 5 0 5 5 8 3 5 7 6 6\n",
      " 0 4 5 4 6 8 2 5 8 4 5 6 4 8 2 6 6 9 5 5 9 7 5 0 5 5 2 3 4 7 5 5 8 4 0 1 2\n",
      " 8 8 2 9 1 5]\n"
     ]
    }
   ],
   "source": [
    "from sklearn.cluster import KMeans\n",
    "\n",
    "# Описываем модель\n",
    "model = KMeans(n_clusters=10)\n",
    "\n",
    "# Проводим моделирование\n",
    "model.fit(df_train)\n",
    "\n",
    "# Предсказание на всем наборе данных\n",
    "all_predictions = model.predict(df_train)\n",
    "\n",
    "# Выводим предсказания\n",
    "print(all_predictions)"
   ]
  },
  {
   "cell_type": "code",
   "execution_count": 147,
   "metadata": {},
   "outputs": [],
   "source": [
    "def get_group(user):\n",
    "    from sklearn.cluster import AffinityPropagation\n",
    "    import numpy as np\n",
    "    import pickle\n",
    "    with open('clustering', 'rb') as f:\n",
    "        clustering = pickle.load(f)\n",
    "\n",
    "    ujson = model_to_dict(user)\n",
    "    data = user_preparation(ujson)\n",
    "\n",
    "    return clustering.predict([data])[0]"
   ]
  },
  {
   "cell_type": "code",
   "execution_count": 168,
   "metadata": {},
   "outputs": [
    {
     "data": {
      "text/plain": [
       "array([0, 5, 5, 8, 0, 5, 0, 7, 7, 7], dtype=int64)"
      ]
     },
     "execution_count": 168,
     "metadata": {},
     "output_type": "execute_result"
    }
   ],
   "source": [
    "from sklearn.cluster import AffinityPropagation\n",
    "import numpy as np\n",
    "\n",
    "\n",
    "clustering = AffinityPropagation(affinity='euclidean', convergence_iter=15, copy=True,\n",
    "          damping=0.5, max_iter=200, preference=None, verbose=False).fit(df_train)\n",
    "# clustering.labels_\n",
    "\n",
    "clustering.predict(df_train[0:10])\n",
    "# array([0, 1])\n",
    "# clustering.cluster_centers_\n"
   ]
  },
  {
   "cell_type": "code",
   "execution_count": 150,
   "metadata": {},
   "outputs": [],
   "source": [
    "import pickle\n",
    "pickle.dump(clustering, open(\"clustering\", \"wb\"))"
   ]
  },
  {
   "cell_type": "code",
   "execution_count": 141,
   "metadata": {},
   "outputs": [
    {
     "data": {
      "text/plain": [
       "array([0, 5, 5, 8, 0, 5, 0, 7, 7, 7, 8, 1, 0, 0, 8, 0, 1, 2, 2, 7, 5, 5,\n",
       "       8, 7, 6, 0, 1, 1, 7, 3, 3, 7, 3, 7, 8, 7, 6, 2, 5, 6, 0, 5, 0, 5,\n",
       "       5, 7, 5, 0, 2, 5, 2, 5, 4, 4, 0, 4, 0, 7, 5, 7, 5, 5, 6, 6, 2, 7,\n",
       "       2, 2, 5, 3, 2, 4, 1, 1, 7, 5, 2, 0, 1, 5, 0, 2, 8, 5, 2, 1, 8, 5,\n",
       "       8, 1, 1, 6, 2, 2, 6, 4, 2, 7, 2, 2, 0, 3, 8, 4, 2, 2, 8, 8, 7, 2,\n",
       "       0, 8, 5, 0, 6, 2, 2], dtype=int64)"
      ]
     },
     "execution_count": 141,
     "metadata": {},
     "output_type": "execute_result"
    }
   ],
   "source": [
    "clustering.predict(df_train)"
   ]
  },
  {
   "cell_type": "code",
   "execution_count": 153,
   "metadata": {},
   "outputs": [
    {
     "data": {
      "application/vnd.jupyter.widget-view+json": {
       "model_id": "e968e1d3f2ad401580031f24e6932f74",
       "version_major": 2,
       "version_minor": 0
      },
      "text/plain": [
       "HBox(children=(IntProgress(value=0, max=117), HTML(value='')))"
      ]
     },
     "metadata": {},
     "output_type": "display_data"
    }
   ],
   "source": [
    "for u in tqdm(Users.select().execute()):\n",
    "    u.group=get_group(u)\n",
    "    u.save()"
   ]
  },
  {
   "cell_type": "code",
   "execution_count": 160,
   "metadata": {},
   "outputs": [
    {
     "data": {
      "text/plain": [
       "<matplotlib.collections.PathCollection at 0x20278c1b048>"
      ]
     },
     "execution_count": 160,
     "metadata": {},
     "output_type": "execute_result"
    },
    {
     "data": {
      "image/png": "[encoded data removed]",
      "text/plain": [
       "<Figure size 432x288 with 1 Axes>"
      ]
     },
     "metadata": {
      "needs_background": "light"
     },
     "output_type": "display_data"
    }
   ],
   "source": [
    "from sklearn import datasets\n",
    "from sklearn.manifold import TSNE\n",
    "import matplotlib.pyplot as plt\n",
    "\n",
    "\n",
    "# Определяем модель и скорость обучения\n",
    "model = TSNE(learning_rate=1)\n",
    "\n",
    "# Обучаем модель\n",
    "transformed = model.fit_transform(df_train)\n",
    "\n",
    "# Представляем результат в двумерных координатах\n",
    "x_axis = transformed[:, 0]\n",
    "y_axis = transformed[:, 1]\n",
    "\n",
    "plt.scatter(x_axis, y_axis)\n",
    "# plt.show()"
   ]
  },
  {
   "cell_type": "code",
   "execution_count": 161,
   "metadata": {},
   "outputs": [
    {
     "data": {
      "image/png": "[encoded data removed]",
      "text/plain": [
       "<Figure size 432x288 with 1 Axes>"
      ]
     },
     "metadata": {
      "needs_background": "light"
     },
     "output_type": "display_data"
    },
    {
     "data": {
      "text/plain": [
       "array([0, 0, 0, 0, 0, 0, 0, 0, 0, 0, 0, 0, 0, 0, 0, 0, 0, 0, 0, 0, 0, 0,\n",
       "       0, 0, 0, 0, 0, 0, 0, 0, 0, 0, 0, 0, 0, 0, 0, 0, 0, 0, 0, 0, 0, 0,\n",
       "       0, 0, 0, 0, 0, 0, 0, 0, 0, 0, 0, 0, 0, 0, 0, 0, 0, 0, 0, 0, 0, 0,\n",
       "       0, 0, 0, 0, 0, 0, 0, 0, 0, 0, 0, 0, 0, 0, 0, 0, 0, 0, 0, 0, 0, 0,\n",
       "       0, 0, 0, 0, 0, 0, 0, 0, 0, 0, 0, 0, 0, 0, 0, 0, 0, 0, 0, 0, 0, 0,\n",
       "       0, 0, 0, 0, 0, 0, 0], dtype=int64)"
      ]
     },
     "execution_count": 161,
     "metadata": {},
     "output_type": "execute_result"
    }
   ],
   "source": [
    "# Импортируем библиотеки\n",
    "from sklearn.datasets import load_iris\n",
    "import matplotlib.pyplot as plt\n",
    "from sklearn.cluster import DBSCAN\n",
    "from sklearn.decomposition import PCA\n",
    "\n",
    "\n",
    "# Определяем модель\n",
    "dbscan = DBSCAN(eps = 5)\n",
    "\n",
    "# Обучаем\n",
    "dbscan.fit(df_train)\n",
    "\n",
    "# Уменьшаем размерность при помощи метода главных компонент\n",
    "pca = PCA(n_components=20).fit(df_train)\n",
    "transformed = pca.transform(df_train)\n",
    "\n",
    "x_axis = transformed[:, 0]\n",
    "y_axis = transformed[:, 1]\n",
    "\n",
    "plt.scatter(x_axis, y_axis)\n",
    "plt.show()\n",
    "\n",
    "dbscan.fit_predict(df_train)"
   ]
  },
  {
   "cell_type": "code",
   "execution_count": 195,
   "metadata": {},
   "outputs": [
    {
     "data": {
      "text/plain": [
       "[2, 3, 5, 1, 4]"
      ]
     },
     "execution_count": 195,
     "metadata": {},
     "output_type": "execute_result"
    }
   ],
   "source": [
    "np.random.choice([1,2,3,4,5],5,replace=False).tolist()"
   ]
  },
  {
   "cell_type": "code",
   "execution_count": 202,
   "metadata": {},
   "outputs": [
    {
     "data": {
      "text/plain": [
       "117"
      ]
     },
     "execution_count": 202,
     "metadata": {},
     "output_type": "execute_result"
    }
   ],
   "source": [
    "Users.select().count()"
   ]
  },
  {
   "cell_type": "code",
   "execution_count": null,
   "metadata": {},
   "outputs": [],
   "source": []
  }
 ],
 "metadata": {
  "kernelspec": {
   "display_name": "Python 3",
   "language": "python",
   "name": "python3"
  },
  "language_info": {
   "codemirror_mode": {
    "name": "ipython",
    "version": 3
   },
   "file_extension": ".py",
   "mimetype": "text/x-python",
   "name": "python",
   "nbconvert_exporter": "python",
   "pygments_lexer": "ipython3",
   "version": "3.7.0"
  }
 },
 "nbformat": 4,
 "nbformat_minor": 2
}
