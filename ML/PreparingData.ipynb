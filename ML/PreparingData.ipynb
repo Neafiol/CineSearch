{
 "cells": [
  {
   "cell_type": "code",
   "execution_count": 1,
   "metadata": {},
   "outputs": [],
   "source": [
    "import requests\n",
    "from bs4 import BeautifulSoup\n",
    "import re\n",
    "import json\n",
    "from tqdm import tqdm_notebook as tqdm\n",
    "import psycopg2  \n",
    "from peewee import *\n",
    "from playhouse.postgres_ext import PostgresqlExtDatabase, JSONField, ArrayField"
   ]
  },
  {
   "cell_type": "code",
   "execution_count": 2,
   "metadata": {},
   "outputs": [],
   "source": [
    "bdname='sinesearch_db'\n",
    "bduser = 'postgres'\n",
    "bdpassword = 'nef441'\n",
    "bdhost = '51.79.69.179'\n",
    "bdport = 5432\n",
    "\n",
    "db = PostgresqlExtDatabase(bdname, user=bduser, password=bdpassword,\n",
    "                           host=bdhost, port=bdport)"
   ]
  },
  {
   "cell_type": "code",
   "execution_count": 5,
   "metadata": {},
   "outputs": [
    {
     "ename": "AttributeError",
     "evalue": "'NoneType' object has no attribute 'rollback'",
     "output_type": "error",
     "traceback": [
      "\u001b[1;31m---------------------------------------------------------------------------\u001b[0m",
      "\u001b[1;31mAttributeError\u001b[0m                            Traceback (most recent call last)",
      "\u001b[1;32m<ipython-input-5-829d450a34d0>\u001b[0m in \u001b[0;36m<module>\u001b[1;34m()\u001b[0m\n\u001b[1;32m----> 1\u001b[1;33m \u001b[0mdb\u001b[0m\u001b[1;33m.\u001b[0m\u001b[0mrollback\u001b[0m\u001b[1;33m(\u001b[0m\u001b[1;33m)\u001b[0m\u001b[1;33m\u001b[0m\u001b[0m\n\u001b[0m",
      "\u001b[1;32m~\\Anaconda3\\lib\\site-packages\\peewee.py\u001b[0m in \u001b[0;36mrollback\u001b[1;34m(self)\u001b[0m\n\u001b[0;32m   3131\u001b[0m \u001b[1;33m\u001b[0m\u001b[0m\n\u001b[0;32m   3132\u001b[0m     \u001b[1;32mdef\u001b[0m \u001b[0mrollback\u001b[0m\u001b[1;33m(\u001b[0m\u001b[0mself\u001b[0m\u001b[1;33m)\u001b[0m\u001b[1;33m:\u001b[0m\u001b[1;33m\u001b[0m\u001b[0m\n\u001b[1;32m-> 3133\u001b[1;33m         \u001b[1;32mreturn\u001b[0m \u001b[0mself\u001b[0m\u001b[1;33m.\u001b[0m\u001b[0m_state\u001b[0m\u001b[1;33m.\u001b[0m\u001b[0mconn\u001b[0m\u001b[1;33m.\u001b[0m\u001b[0mrollback\u001b[0m\u001b[1;33m(\u001b[0m\u001b[1;33m)\u001b[0m\u001b[1;33m\u001b[0m\u001b[0m\n\u001b[0m\u001b[0;32m   3134\u001b[0m \u001b[1;33m\u001b[0m\u001b[0m\n\u001b[0;32m   3135\u001b[0m     \u001b[1;32mdef\u001b[0m \u001b[0mbatch_commit\u001b[0m\u001b[1;33m(\u001b[0m\u001b[0mself\u001b[0m\u001b[1;33m,\u001b[0m \u001b[0mit\u001b[0m\u001b[1;33m,\u001b[0m \u001b[0mn\u001b[0m\u001b[1;33m)\u001b[0m\u001b[1;33m:\u001b[0m\u001b[1;33m\u001b[0m\u001b[0m\n",
      "\u001b[1;31mAttributeError\u001b[0m: 'NoneType' object has no attribute 'rollback'"
     ]
    }
   ],
   "source": [
    "db.rollback()"
   ]
  },
  {
   "cell_type": "code",
   "execution_count": 3,
   "metadata": {},
   "outputs": [],
   "source": [
    "class Films(Model):\n",
    "    film_id=IntegerField(unique=True,index=True)\n",
    "    name = TextField()\n",
    "    discr = TextField(null=True)\n",
    "    img = TextField(null=True)\n",
    "    youtube=TextField(default=\"\")\n",
    "    stars = FloatField(default=0)\n",
    "    info=JSONField(default={})\n",
    "    selections=ArrayField(IntegerField,default=[])\n",
    "    likes=IntegerField(default=0)\n",
    "    dislikes=IntegerField(default=0)\n",
    "\n",
    "    class Meta:\n",
    "        database = db\n",
    "        db_table='Films'\n",
    "\n",
    "class Selections(Model):\n",
    "    name = TextField()\n",
    "    user_id = IntegerField(default=0,index=True)\n",
    "    stars = FloatField(default=0)\n",
    "    films = ArrayField(IntegerField,default=[])\n",
    "\n",
    "    class Meta:\n",
    "        database = db\n",
    "        db_table='Selections'"
   ]
  },
  {
   "cell_type": "code",
   "execution_count": 4,
   "metadata": {},
   "outputs": [],
   "source": [
    "with open(\"collections\",\"r\") as f:\n",
    "    collections=json.load(f)"
   ]
  },
  {
   "cell_type": "code",
   "execution_count": 5,
   "metadata": {},
   "outputs": [
    {
     "data": {
      "application/vnd.jupyter.widget-view+json": {
       "model_id": "204a7fbf7bef47bc893dab140beda898",
       "version_major": 2,
       "version_minor": 0
      },
      "text/plain": [
       "HBox(children=(IntProgress(value=1, bar_style='info', max=1), HTML(value='')))"
      ]
     },
     "metadata": {},
     "output_type": "display_data"
    },
    {
     "name": "stdout",
     "output_type": "stream",
     "text": [
      "\n"
     ]
    },
    {
     "data": {
      "text/plain": [
       "<peewee.ModelTupleCursorWrapper at 0x20e2b8b1470>"
      ]
     },
     "execution_count": 5,
     "metadata": {},
     "output_type": "execute_result"
    }
   ],
   "source": [
    "col=[]\n",
    "for i , c in tqdm(enumerate(collections)):\n",
    "    col.append({\n",
    "         \"name\":c,\n",
    "         \"films\":[int(k) for k in collections[c]]\n",
    "     })\n",
    "    if i % 100 ==0:\n",
    "        Selections.insert_many(col).execute()\n",
    "        col=[]\n",
    "Selections.insert_many(col).execute()"
   ]
  },
  {
   "cell_type": "code",
   "execution_count": 8,
   "metadata": {},
   "outputs": [],
   "source": [
    "re.match(r'vk\\.com/.*', 'k.com/p.volnov')"
   ]
  },
  {
   "cell_type": "code",
   "execution_count": 25,
   "metadata": {},
   "outputs": [
    {
     "name": "stdout",
     "output_type": "stream",
     "text": [
      "['434835', '23093', '433037', '419841', '421800', '413729', '23976', '226247', '419328', '8941', '415110', '23491', '2866', '4465', '21663', '422195', '1201', '242343', '10241', '415684', '4944', '199635', '416039', '380598']\n"
     ]
    }
   ],
   "source": [
    "for i , col in enumerate(collections.values()):\n",
    "    print(col)\n",
    "    break"
   ]
  },
  {
   "cell_type": "code",
   "execution_count": 26,
   "metadata": {},
   "outputs": [
    {
     "name": "stdout",
     "output_type": "stream",
     "text": [
      "1\n",
      "50\n",
      "50\n"
     ]
    },
    {
     "data": {
      "text/plain": [
       "<peewee.ModelTupleCursorWrapper at 0x1ca78c9ef60>"
      ]
     },
     "execution_count": 26,
     "metadata": {},
     "output_type": "execute_result"
    }
   ],
   "source": [
    "fms=[]\n",
    "with open(\"films.jsonlines\",\"r\") as f:\n",
    "    for k, line in enumerate(f.readlines()[:120]):\n",
    "        film = json.loads(line)\n",
    "        info=film.copy()\n",
    "        comp_film={\n",
    "            \"name\":info[\"name\"],\n",
    "            \"discr\":info[\"discr\"],\n",
    "            \"img\":info[\"img\"],\n",
    "            \"youtube\":info[\"youtube\"],\n",
    "            \"film_id\":info[\"film_id\"],   \n",
    "            \"stars\":0\n",
    "        }\n",
    "        if \"Рейтинг\" in info:\n",
    "            comp_film[\"stars\"] = float(info[\"Рейтинг\"].replace(\" \",\"\").replace(\",\",\".\").replace(\"%\",\"\"))/10\n",
    "        del info[\"name\"]\n",
    "        del info[\"discr\"]\n",
    "        del info[\"img\"]\n",
    "        del info[\"youtube\"]\n",
    "        del info[\"film_id\"]\n",
    "        info[\"Дата выхода\"]=info[\"data\"]\n",
    "        del info[\"data\"]\n",
    "\n",
    "        \n",
    "        comp_film[\"selections\"]=[]\n",
    "        \n",
    "        for i , col in enumerate(collections.values()):\n",
    "            if str(film[\"film_id\"]) in col:\n",
    "                comp_film[\"selections\"].append(i+1)\n",
    "\n",
    "        comp_film[\"info\"]=info\n",
    "        \n",
    "        fms.append(comp_film)\n",
    "        if k % 50 == 0:\n",
    "            Films.insert_many(fms).execute()   \n",
    "            print(len(fms))\n",
    "            fms=[]\n",
    "Films.insert_many(fms).execute()"
   ]
  },
  {
   "cell_type": "code",
   "execution_count": 2,
   "metadata": {},
   "outputs": [
    {
     "data": {
      "text/plain": [
       "False"
      ]
     },
     "execution_count": 2,
     "metadata": {},
     "output_type": "execute_result"
    }
   ],
   "source": [
    "import re\n",
    "re.match(r'vk\\.com/.*', \"vk.com/neafiol\")==None"
   ]
  },
  {
   "cell_type": "code",
   "execution_count": null,
   "metadata": {},
   "outputs": [],
   "source": []
  }
 ],
 "metadata": {
  "kernelspec": {
   "display_name": "Python 3",
   "language": "python",
   "name": "python3"
  },
  "language_info": {
   "codemirror_mode": {
    "name": "ipython",
    "version": 3
   },
   "file_extension": ".py",
   "mimetype": "text/x-python",
   "name": "python",
   "nbconvert_exporter": "python",
   "pygments_lexer": "ipython3",
   "version": "3.7.0"
  }
 },
 "nbformat": 4,
 "nbformat_minor": 2
}
